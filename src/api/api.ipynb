{
 "cells": [
  {
   "cell_type": "markdown",
   "metadata": {},
   "source": [
    "IMPORTS"
   ]
  },
  {
   "cell_type": "code",
   "execution_count": 25,
   "metadata": {
    "dotnet_interactive": {
     "language": "csharp"
    },
    "polyglot_notebook": {
     "kernelName": "csharp"
    }
   },
   "outputs": [],
   "source": [
    "import tensorflow as tf\n",
    "from flask import Flask, request, jsonify\n",
    "from tensorflow.keras.models import load_model\n",
    "from tensorflow.keras.preprocessing import image\n",
    "from sklearn.ensemble import RandomForestClassifier\n",
    "import numpy as np\n",
    "import os\n",
    "import pickle\n",
    "import pandas as pd"
   ]
  },
  {
   "cell_type": "markdown",
   "metadata": {},
   "source": [
    "INSTACIAR SERVIDOR"
   ]
  },
  {
   "cell_type": "code",
   "execution_count": 26,
   "metadata": {
    "dotnet_interactive": {
     "language": "csharp"
    },
    "polyglot_notebook": {
     "kernelName": "csharp"
    }
   },
   "outputs": [],
   "source": [
    "app = Flask(__name__)"
   ]
  },
  {
   "cell_type": "markdown",
   "metadata": {},
   "source": [
    "VERIFICAR SE O MODELO EXISTE"
   ]
  },
  {
   "cell_type": "code",
   "execution_count": 27,
   "metadata": {
    "dotnet_interactive": {
     "language": "csharp"
    },
    "polyglot_notebook": {
     "kernelName": "csharp"
    }
   },
   "outputs": [],
   "source": [
    "model_path = 'models/CNN_model.keras'\n",
    "if not os.path.exists(model_path):\n",
    "  raise FileExistsError(f\"O arquivo {model_path} não foi encontrado\")"
   ]
  },
  {
   "cell_type": "markdown",
   "metadata": {},
   "source": [
    "CARREGAR MODELO TREINADO(IMAGE)"
   ]
  },
  {
   "cell_type": "code",
   "execution_count": 28,
   "metadata": {
    "dotnet_interactive": {
     "language": "csharp"
    },
    "polyglot_notebook": {
     "kernelName": "csharp"
    }
   },
   "outputs": [
    {
     "name": "stdout",
     "output_type": "stream",
     "text": [
      "Modelo carregado com sucesso\n"
     ]
    }
   ],
   "source": [
    "try:\n",
    "  model = load_model(model_path)\n",
    "  print(\"Modelo carregado com sucesso\")\n",
    "except Exception as e:\n",
    "  print(f\"Erro ao carregar modelo: {e}\")"
   ]
  },
  {
   "cell_type": "markdown",
   "metadata": {},
   "source": [
    "CARREGAR MODELO TREINADO(SIMPTOMS)"
   ]
  },
  {
   "cell_type": "code",
   "execution_count": 29,
   "metadata": {},
   "outputs": [],
   "source": [
    "with open(\"../api/models/best_model.pkl\", \"rb\") as f:\n",
    "    best_model = pickle.load(f)"
   ]
  },
  {
   "cell_type": "markdown",
   "metadata": {},
   "source": [
    "CARREGAR MODELO TREINADO(ENCODERS)"
   ]
  },
  {
   "cell_type": "code",
   "execution_count": 30,
   "metadata": {},
   "outputs": [],
   "source": [
    "with open(\"../api/models/encoders.pkl\", \"rb\") as f:\n",
    "    encoders = pickle.load(f)"
   ]
  },
  {
   "cell_type": "markdown",
   "metadata": {},
   "source": [
    "INSTANCIAS LABEL_ENCODER"
   ]
  },
  {
   "cell_type": "code",
   "execution_count": 31,
   "metadata": {},
   "outputs": [],
   "source": [
    "symptoms_encoder = encoders[\"symptoms\"]\n",
    "sex_encoder = encoders[\"sex\"]\n",
    "nature_encoder = encoders[\"nature\"]\n",
    "treatment_encoder = encoders[\"treatment\"]\n",
    "disease_encoder = encoders[\"disease\"]"
   ]
  },
  {
   "cell_type": "markdown",
   "metadata": {},
   "source": [
    "PROCESSAR IMAGEM"
   ]
  },
  {
   "cell_type": "code",
   "execution_count": 32,
   "metadata": {
    "dotnet_interactive": {
     "language": "csharp"
    },
    "polyglot_notebook": {
     "kernelName": "csharp"
    }
   },
   "outputs": [],
   "source": [
    "def preprocess_image(img_path):\n",
    "    img = image.load_img(img_path, target_size=(224, 224))\n",
    "    img_array = image.img_to_array(img)\n",
    "    img_array = np.expand_dims(img_array, axis=0)\n",
    "    img_array = img_array / 255.0\n",
    "    return img_array"
   ]
  },
  {
   "cell_type": "markdown",
   "metadata": {},
   "source": [
    "PREVER DOENÇA"
   ]
  },
  {
   "cell_type": "code",
   "execution_count": 33,
   "metadata": {},
   "outputs": [],
   "source": [
    "def predict_treatment(novos_sintomas, idade, sexo, natureza, tratamento):\n",
    "    # Verificar se os novos valores estão nos encoders\n",
    "    for sintoma in novos_sintomas:\n",
    "        if sintoma not in symptoms_encoder.classes_:\n",
    "            raise ValueError(f\"Sintoma não reconhecido: {sintoma}\")\n",
    "    if sexo not in sex_encoder.classes_:\n",
    "        raise ValueError(f\"Sexo não reconhecido: {sexo}\")\n",
    "    if natureza not in nature_encoder.classes_:\n",
    "        raise ValueError(f\"Natureza não reconhecida: {natureza}\")\n",
    "    if tratamento not in treatment_encoder.classes_:\n",
    "        raise ValueError(f\"Tratamento não reconhecido: {tratamento}\")\n",
    "\n",
    "    # Codificar os sintomas\n",
    "    sintomas_codificados = symptoms_encoder.transform(novos_sintomas)\n",
    "\n",
    "    # Calcular a moda dos sintomas codificados\n",
    "    sintoma_moda = max(set(sintomas_codificados), key=list(sintomas_codificados).count)\n",
    "\n",
    "    # Preparar os dados de entrada\n",
    "    novos_dados = pd.DataFrame(\n",
    "        {\n",
    "            \"Symptoms\": [sintoma_moda],\n",
    "            \"Age\": [idade],\n",
    "            \"Sex\": [sexo],\n",
    "            \"Nature\": [natureza],\n",
    "            \"Treatment\": [tratamento],\n",
    "        }\n",
    "    )\n",
    "\n",
    "    # Codificar os dados de entrada\n",
    "    novos_dados[\"Sex\"] = sex_encoder.transform(novos_dados[\"Sex\"])\n",
    "    novos_dados[\"Nature\"] = nature_encoder.transform(novos_dados[\"Nature\"])\n",
    "    novos_dados[\"Treatment\"] = treatment_encoder.transform(novos_dados[\"Treatment\"])\n",
    "\n",
    "    # Prever o tratamento\n",
    "    predicao = best_model.predict(novos_dados)\n",
    "    tratamento_previsto = disease_encoder.inverse_transform(predicao)\n",
    "\n",
    "    return tratamento_previsto[0]"
   ]
  },
  {
   "cell_type": "markdown",
   "metadata": {},
   "source": [
    "CRIAR ROTA PREVER IMAGEM"
   ]
  },
  {
   "cell_type": "code",
   "execution_count": 34,
   "metadata": {
    "dotnet_interactive": {
     "language": "csharp"
    },
    "polyglot_notebook": {
     "kernelName": "csharp"
    }
   },
   "outputs": [],
   "source": [
    "@app.route(\"/predict_image\", methods=[\"POST\"])\n",
    "def predict():\n",
    "    if \"image\" not in request.files:\n",
    "        return jsonify({\"error\": \"No image file in the request\"}), 400\n",
    "\n",
    "    img_file = request.files[\"image\"]\n",
    "    img_path = os.path.join(\"uploads\", img_file.filename)\n",
    "    img_file.save(img_path)\n",
    "\n",
    "    img_array = preprocess_image(img_path)\n",
    "    prediction = model.predict(img_array)\n",
    "\n",
    "    response = {\n",
    "        \"predictions\": {\n",
    "            \"COVID\": f\"{prediction[0][0] * 100:.2f}%\",\n",
    "            \"Pneumonia\": f\"{prediction[0][1] * 100:.2f}%\",\n",
    "            \"Normal\": f\"{prediction[0][2] * 100:.2f}%\",\n",
    "        }\n",
    "    }\n",
    "\n",
    "    return jsonify(response)"
   ]
  },
  {
   "cell_type": "markdown",
   "metadata": {},
   "source": [
    "CRIAR ROTA PREVER DOENÇA"
   ]
  },
  {
   "cell_type": "code",
   "execution_count": 35,
   "metadata": {},
   "outputs": [],
   "source": [
    "@app.route(\"/predict_symptoms\", methods=[\"POST\"])\n",
    "def predict_symptoms():\n",
    "    data = request.json\n",
    "    required_fields = [\"symptoms\", \"age\", \"sex\", \"nature\", \"treatment\"]\n",
    "\n",
    "    for field in required_fields:\n",
    "        if field not in data:\n",
    "            return jsonify({\"error\": f\"Missing field: {field}\"}), 400\n",
    "\n",
    "    try:\n",
    "        sintomas = data[\"symptoms\"]\n",
    "        if not isinstance(sintomas, list):\n",
    "            return jsonify({\"error\": \"Field 'symptoms' must be a list\"}), 400\n",
    "\n",
    "        idade = data[\"age\"]\n",
    "        sexo = data[\"sex\"]\n",
    "        natureza = data[\"nature\"]\n",
    "        tratamento = data[\"treatment\"]\n",
    "\n",
    "        tratamento_previsto = predict_treatment(\n",
    "            sintomas, idade, sexo, natureza, tratamento\n",
    "        )\n",
    "        response = {\"predicted_treatment\": tratamento_previsto}\n",
    "        return jsonify(response)\n",
    "\n",
    "    except Exception as e:\n",
    "        return jsonify({\"error\": str(e)}), 500"
   ]
  },
  {
   "cell_type": "markdown",
   "metadata": {},
   "source": [
    "INICIALIZAR SERVIDOR"
   ]
  },
  {
   "cell_type": "code",
   "execution_count": 36,
   "metadata": {
    "dotnet_interactive": {
     "language": "csharp"
    },
    "polyglot_notebook": {
     "kernelName": "csharp"
    }
   },
   "outputs": [
    {
     "name": "stdout",
     "output_type": "stream",
     "text": [
      " * Serving Flask app '__main__'\n",
      " * Debug mode: off\n"
     ]
    },
    {
     "name": "stderr",
     "output_type": "stream",
     "text": [
      "WARNING: This is a development server. Do not use it in a production deployment. Use a production WSGI server instead.\n",
      " * Running on http://127.0.0.1:5000\n",
      "Press CTRL+C to quit\n",
      "127.0.0.1 - - [26/Jun/2024 16:45:46] \"POST /predict_symptoms HTTP/1.1\" 400 -\n",
      "127.0.0.1 - - [26/Jun/2024 16:49:09] \"POST /predict_symptoms HTTP/1.1\" 200 -\n"
     ]
    },
    {
     "name": "stdout",
     "output_type": "stream",
     "text": [
      "{'symptoms': [' coughing'], 'age': 30, 'sex': 'male', 'nature': 'high', 'treatment': 'Antibiotic'}\n"
     ]
    },
    {
     "name": "stderr",
     "output_type": "stream",
     "text": [
      "127.0.0.1 - - [26/Jun/2024 16:50:19] \"POST /predict_symptoms HTTP/1.1\" 400 -\n",
      "127.0.0.1 - - [26/Jun/2024 16:51:05] \"POST /predict_symptoms HTTP/1.1\" 400 -\n",
      "127.0.0.1 - - [26/Jun/2024 16:52:22] \"POST /predict_symptoms HTTP/1.1\" 400 -\n",
      "127.0.0.1 - - [26/Jun/2024 16:56:33] \"POST /predict_symptoms HTTP/1.1\" 200 -\n"
     ]
    },
    {
     "name": "stdout",
     "output_type": "stream",
     "text": [
      "{'symptoms': [' coughing'], 'age': '12', 'sex': 'male', 'nature': 'low', 'treatment': 'Cough medicine'}\n"
     ]
    },
    {
     "name": "stderr",
     "output_type": "stream",
     "text": [
      "127.0.0.1 - - [26/Jun/2024 17:58:04] \"POST /predict_symptoms HTTP/1.1\" 200 -\n"
     ]
    },
    {
     "name": "stdout",
     "output_type": "stream",
     "text": [
      "{'symptoms': [' coughing'], 'age': '12', 'sex': 'male', 'nature': 'high', 'treatment': 'Diuretics'}\n"
     ]
    },
    {
     "name": "stderr",
     "output_type": "stream",
     "text": [
      "127.0.0.1 - - [26/Jun/2024 18:03:19] \"POST /predict_symptoms HTTP/1.1\" 200 -\n"
     ]
    },
    {
     "name": "stdout",
     "output_type": "stream",
     "text": [
      "{'symptoms': [' coughing'], 'age': '12', 'sex': 'male', 'nature': 'high', 'treatment': 'Intravenous fluids'}\n",
      "\u001b[1m1/1\u001b[0m \u001b[32m━━━━━━━━━━━━━━━━━━━━\u001b[0m\u001b[37m\u001b[0m \u001b[1m1s\u001b[0m 1s/step\n"
     ]
    },
    {
     "name": "stderr",
     "output_type": "stream",
     "text": [
      "127.0.0.1 - - [26/Jun/2024 18:06:19] \"POST /predict_image HTTP/1.1\" 200 -\n"
     ]
    },
    {
     "name": "stdout",
     "output_type": "stream",
     "text": [
      "\u001b[1m1/1\u001b[0m \u001b[32m━━━━━━━━━━━━━━━━━━━━\u001b[0m\u001b[37m\u001b[0m \u001b[1m0s\u001b[0m 54ms/step\n"
     ]
    },
    {
     "name": "stderr",
     "output_type": "stream",
     "text": [
      "127.0.0.1 - - [26/Jun/2024 18:06:29] \"POST /predict_image HTTP/1.1\" 200 -\n",
      "127.0.0.1 - - [26/Jun/2024 18:06:54] \"POST /predict_symptoms HTTP/1.1\" 200 -\n"
     ]
    },
    {
     "name": "stdout",
     "output_type": "stream",
     "text": [
      "{'symptoms': [' coughing'], 'age': '12', 'sex': 'male', 'nature': 'high', 'treatment': 'Intrapulmonary Percussive Ventilation'}\n",
      "\u001b[1m1/1\u001b[0m \u001b[32m━━━━━━━━━━━━━━━━━━━━\u001b[0m\u001b[37m\u001b[0m \u001b[1m0s\u001b[0m 43ms/step\n"
     ]
    },
    {
     "name": "stderr",
     "output_type": "stream",
     "text": [
      "127.0.0.1 - - [26/Jun/2024 18:07:24] \"POST /predict_image HTTP/1.1\" 200 -\n"
     ]
    },
    {
     "name": "stdout",
     "output_type": "stream",
     "text": [
      "\u001b[1m1/1\u001b[0m \u001b[32m━━━━━━━━━━━━━━━━━━━━\u001b[0m\u001b[37m\u001b[0m \u001b[1m0s\u001b[0m 46ms/step\n"
     ]
    },
    {
     "name": "stderr",
     "output_type": "stream",
     "text": [
      "127.0.0.1 - - [26/Jun/2024 18:07:40] \"POST /predict_image HTTP/1.1\" 200 -\n"
     ]
    },
    {
     "name": "stdout",
     "output_type": "stream",
     "text": [
      "\u001b[1m1/1\u001b[0m \u001b[32m━━━━━━━━━━━━━━━━━━━━\u001b[0m\u001b[37m\u001b[0m \u001b[1m0s\u001b[0m 49ms/step\n"
     ]
    },
    {
     "name": "stderr",
     "output_type": "stream",
     "text": [
      "127.0.0.1 - - [26/Jun/2024 18:10:16] \"POST /predict_image HTTP/1.1\" 200 -\n"
     ]
    },
    {
     "name": "stdout",
     "output_type": "stream",
     "text": [
      "\u001b[1m1/1\u001b[0m \u001b[32m━━━━━━━━━━━━━━━━━━━━\u001b[0m\u001b[37m\u001b[0m \u001b[1m0s\u001b[0m 45ms/step\n"
     ]
    },
    {
     "name": "stderr",
     "output_type": "stream",
     "text": [
      "127.0.0.1 - - [26/Jun/2024 18:10:31] \"POST /predict_image HTTP/1.1\" 200 -\n"
     ]
    },
    {
     "name": "stdout",
     "output_type": "stream",
     "text": [
      "\u001b[1m1/1\u001b[0m \u001b[32m━━━━━━━━━━━━━━━━━━━━\u001b[0m\u001b[37m\u001b[0m \u001b[1m0s\u001b[0m 50ms/step\n"
     ]
    },
    {
     "name": "stderr",
     "output_type": "stream",
     "text": [
      "127.0.0.1 - - [26/Jun/2024 18:10:47] \"POST /predict_image HTTP/1.1\" 200 -\n"
     ]
    },
    {
     "name": "stdout",
     "output_type": "stream",
     "text": [
      "\u001b[1m1/1\u001b[0m \u001b[32m━━━━━━━━━━━━━━━━━━━━\u001b[0m\u001b[37m\u001b[0m \u001b[1m0s\u001b[0m 47ms/step\n"
     ]
    },
    {
     "name": "stderr",
     "output_type": "stream",
     "text": [
      "127.0.0.1 - - [26/Jun/2024 18:12:16] \"POST /predict_image HTTP/1.1\" 200 -\n"
     ]
    },
    {
     "name": "stdout",
     "output_type": "stream",
     "text": [
      "\u001b[1m1/1\u001b[0m \u001b[32m━━━━━━━━━━━━━━━━━━━━\u001b[0m\u001b[37m\u001b[0m \u001b[1m0s\u001b[0m 56ms/step\n"
     ]
    },
    {
     "name": "stderr",
     "output_type": "stream",
     "text": [
      "127.0.0.1 - - [26/Jun/2024 18:12:32] \"POST /predict_image HTTP/1.1\" 200 -\n",
      "127.0.0.1 - - [26/Jun/2024 18:13:09] \"POST /predict_symptoms HTTP/1.1\" 200 -\n"
     ]
    },
    {
     "name": "stdout",
     "output_type": "stream",
     "text": [
      "{'symptoms': [' coughing'], 'age': '12', 'sex': 'male', 'nature': 'high', 'treatment': 'Diuretics'}\n"
     ]
    },
    {
     "name": "stderr",
     "output_type": "stream",
     "text": [
      "127.0.0.1 - - [26/Jun/2024 18:15:53] \"POST /predict_symptoms HTTP/1.1\" 200 -\n"
     ]
    },
    {
     "name": "stdout",
     "output_type": "stream",
     "text": [
      "{'symptoms': [' coughing'], 'age': '12', 'sex': 'male', 'nature': 'high', 'treatment': 'Oseltamivir'}\n"
     ]
    },
    {
     "name": "stderr",
     "output_type": "stream",
     "text": [
      "127.0.0.1 - - [26/Jun/2024 18:22:08] \"POST /predict_symptoms HTTP/1.1\" 200 -\n"
     ]
    },
    {
     "name": "stdout",
     "output_type": "stream",
     "text": [
      "{'symptoms': [' coughing'], 'age': '12', 'sex': 'male', 'nature': 'high', 'treatment': 'Omalizumab'}\n"
     ]
    },
    {
     "name": "stderr",
     "output_type": "stream",
     "text": [
      "127.0.0.1 - - [26/Jun/2024 18:23:14] \"POST /predict_symptoms HTTP/1.1\" 200 -\n"
     ]
    },
    {
     "name": "stdout",
     "output_type": "stream",
     "text": [
      "{'symptoms': [' coughing'], 'age': '12', 'sex': 'male', 'nature': 'high', 'treatment': 'Chemotherapy'}\n",
      "\u001b[1m1/1\u001b[0m \u001b[32m━━━━━━━━━━━━━━━━━━━━\u001b[0m\u001b[37m\u001b[0m \u001b[1m0s\u001b[0m 70ms/step\n"
     ]
    },
    {
     "name": "stderr",
     "output_type": "stream",
     "text": [
      "127.0.0.1 - - [26/Jun/2024 18:23:54] \"POST /predict_image HTTP/1.1\" 200 -\n"
     ]
    },
    {
     "name": "stdout",
     "output_type": "stream",
     "text": [
      "\u001b[1m1/1\u001b[0m \u001b[32m━━━━━━━━━━━━━━━━━━━━\u001b[0m\u001b[37m\u001b[0m \u001b[1m0s\u001b[0m 43ms/step\n"
     ]
    },
    {
     "name": "stderr",
     "output_type": "stream",
     "text": [
      "127.0.0.1 - - [26/Jun/2024 18:24:00] \"POST /predict_image HTTP/1.1\" 200 -\n"
     ]
    },
    {
     "name": "stdout",
     "output_type": "stream",
     "text": [
      "\u001b[1m1/1\u001b[0m \u001b[32m━━━━━━━━━━━━━━━━━━━━\u001b[0m\u001b[37m\u001b[0m \u001b[1m0s\u001b[0m 48ms/step\n"
     ]
    },
    {
     "name": "stderr",
     "output_type": "stream",
     "text": [
      "127.0.0.1 - - [26/Jun/2024 18:24:38] \"POST /predict_image HTTP/1.1\" 200 -\n",
      "127.0.0.1 - - [26/Jun/2024 18:25:38] \"POST /predict_symptoms HTTP/1.1\" 200 -\n"
     ]
    },
    {
     "name": "stdout",
     "output_type": "stream",
     "text": [
      "{'symptoms': [' coughing'], 'age': '12', 'sex': 'male', 'nature': 'high', 'treatment': 'Mepolizumab'}\n"
     ]
    },
    {
     "name": "stderr",
     "output_type": "stream",
     "text": [
      "127.0.0.1 - - [26/Jun/2024 18:26:41] \"POST /predict_symptoms HTTP/1.1\" 200 -\n"
     ]
    },
    {
     "name": "stdout",
     "output_type": "stream",
     "text": [
      "{'symptoms': [' coughing'], 'age': '12', 'sex': 'male', 'nature': 'high', 'treatment': 'Diuretics'}\n",
      "\u001b[1m1/1\u001b[0m \u001b[32m━━━━━━━━━━━━━━━━━━━━\u001b[0m\u001b[37m\u001b[0m \u001b[1m0s\u001b[0m 47ms/step\n"
     ]
    },
    {
     "name": "stderr",
     "output_type": "stream",
     "text": [
      "127.0.0.1 - - [26/Jun/2024 18:26:58] \"POST /predict_image HTTP/1.1\" 200 -\n",
      "127.0.0.1 - - [26/Jun/2024 18:27:49] \"POST /predict_symptoms HTTP/1.1\" 200 -\n"
     ]
    },
    {
     "name": "stdout",
     "output_type": "stream",
     "text": [
      "{'symptoms': [' coughing'], 'age': '12', 'sex': 'male', 'nature': 'high', 'treatment': 'Intravenous fluids'}\n",
      "\u001b[1m1/1\u001b[0m \u001b[32m━━━━━━━━━━━━━━━━━━━━\u001b[0m\u001b[37m\u001b[0m \u001b[1m0s\u001b[0m 51ms/step\n"
     ]
    },
    {
     "name": "stderr",
     "output_type": "stream",
     "text": [
      "127.0.0.1 - - [26/Jun/2024 18:28:02] \"POST /predict_image HTTP/1.1\" 200 -\n",
      "127.0.0.1 - - [26/Jun/2024 18:29:58] \"POST /predict_symptoms HTTP/1.1\" 200 -\n"
     ]
    },
    {
     "name": "stdout",
     "output_type": "stream",
     "text": [
      "{'symptoms': [' coughing'], 'age': '12', 'sex': 'male', 'nature': 'high', 'treatment': 'Diuretics'}\n"
     ]
    },
    {
     "name": "stderr",
     "output_type": "stream",
     "text": [
      "127.0.0.1 - - [26/Jun/2024 18:31:02] \"POST /predict_symptoms HTTP/1.1\" 200 -\n"
     ]
    },
    {
     "name": "stdout",
     "output_type": "stream",
     "text": [
      "{'symptoms': [' coughing'], 'age': '12', 'sex': 'male', 'nature': 'high', 'treatment': 'Omalizumab'}\n",
      "\u001b[1m1/1\u001b[0m \u001b[32m━━━━━━━━━━━━━━━━━━━━\u001b[0m\u001b[37m\u001b[0m \u001b[1m0s\u001b[0m 57ms/step\n"
     ]
    },
    {
     "name": "stderr",
     "output_type": "stream",
     "text": [
      "127.0.0.1 - - [26/Jun/2024 18:31:14] \"POST /predict_image HTTP/1.1\" 200 -\n"
     ]
    }
   ],
   "source": [
    "if __name__ == \"__main__\":\n",
    "    if not os.path.exists(\"uploads\"):\n",
    "        os.makedirs(\"uploads\")\n",
    "    app.run()"
   ]
  }
 ],
 "metadata": {
  "kernelspec": {
   "display_name": "Python 3",
   "language": "python",
   "name": "python3"
  },
  "language_info": {
   "codemirror_mode": {
    "name": "ipython",
    "version": 3
   },
   "file_extension": ".py",
   "mimetype": "text/x-python",
   "name": "python",
   "nbconvert_exporter": "python",
   "pygments_lexer": "ipython3",
   "version": "3.11.7"
  },
  "polyglot_notebook": {
   "kernelInfo": {
    "defaultKernelName": "csharp",
    "items": [
     {
      "aliases": [],
      "name": "csharp"
     }
    ]
   }
  }
 },
 "nbformat": 4,
 "nbformat_minor": 2
}
