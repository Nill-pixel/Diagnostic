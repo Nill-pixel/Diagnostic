{
 "cells": [
  {
   "cell_type": "markdown",
   "metadata": {},
   "source": [
    "# Teste da importação dos modelos e variaveis categoricas"
   ]
  },
  {
   "cell_type": "code",
   "execution_count": 19,
   "metadata": {},
   "outputs": [],
   "source": [
    "import pandas as pd\n",
    "import pickle\n",
    "from sklearn.preprocessing import LabelEncoder"
   ]
  },
  {
   "cell_type": "code",
   "execution_count": 20,
   "metadata": {},
   "outputs": [],
   "source": [
    "with open(\"../api/models/best_model.pkl\", \"rb\") as f:\n",
    "    best_model = pickle.load(f)"
   ]
  },
  {
   "cell_type": "code",
   "execution_count": 21,
   "metadata": {},
   "outputs": [],
   "source": [
    "with open(\"../api/models/encoders.pkl\", \"rb\") as f:\n",
    "    encoders = pickle.load(f)"
   ]
  },
  {
   "cell_type": "code",
   "execution_count": 22,
   "metadata": {},
   "outputs": [],
   "source": [
    "symptoms_encoder = encoders[\"symptoms\"]\n",
    "sex_encoder = encoders[\"sex\"]\n",
    "nature_encoder = encoders[\"nature\"]\n",
    "treatment_encoder = encoders[\"treatment\"]\n",
    "disease_encoder = encoders[\"disease\"]"
   ]
  },
  {
   "cell_type": "code",
   "execution_count": 23,
   "metadata": {},
   "outputs": [],
   "source": [
    "def prever_tratamento(novos_sintomas, idade, sexo, natureza, tratamento):\n",
    "    # Verificar se os novos valores estão nos encoders\n",
    "    for sintoma in novos_sintomas:\n",
    "        if sintoma not in symptoms_encoder.classes_:\n",
    "            raise ValueError(f\"Sintoma não reconhecido: {sintoma}\")\n",
    "    if sexo not in sex_encoder.classes_:\n",
    "        raise ValueError(f\"Sexo não reconhecido: {sexo}\")\n",
    "    if natureza not in nature_encoder.classes_:\n",
    "        raise ValueError(f\"Natureza não reconhecida: {natureza}\")\n",
    "    if tratamento not in treatment_encoder.classes_:\n",
    "        raise ValueError(f\"Tratamento não reconhecido: {tratamento}\")\n",
    "\n",
    "    # Codificar os sintomas\n",
    "    sintomas_codificados = symptoms_encoder.transform(novos_sintomas)\n",
    "\n",
    "    # Calcular a moda dos sintomas codificados\n",
    "    sintoma_moda = max(set(sintomas_codificados), key=list(sintomas_codificados).count)\n",
    "\n",
    "    # Preparar os dados de entrada\n",
    "    novos_dados = pd.DataFrame(\n",
    "        {\n",
    "            \"Symptoms\": [sintoma_moda],\n",
    "            \"Age\": [idade],\n",
    "            \"Sex\": [sexo],\n",
    "            \"Nature\": [natureza],\n",
    "            \"Treatment\": [tratamento],\n",
    "        }\n",
    "    )\n",
    "\n",
    "    # Codificar os dados de entrada\n",
    "    novos_dados[\"Sex\"] = sex_encoder.transform(novos_dados[\"Sex\"])\n",
    "    novos_dados[\"Nature\"] = nature_encoder.transform(novos_dados[\"Nature\"])\n",
    "    novos_dados[\"Treatment\"] = treatment_encoder.transform(novos_dados[\"Treatment\"])\n",
    "\n",
    "    # Prever o tratamento\n",
    "    predicao = best_model.predict(novos_dados)\n",
    "    tratamento_previsto = disease_encoder.inverse_transform(predicao)\n",
    "\n",
    "    return tratamento_previsto[0]"
   ]
  },
  {
   "cell_type": "code",
   "execution_count": 24,
   "metadata": {},
   "outputs": [
    {
     "name": "stdout",
     "output_type": "stream",
     "text": [
      "O tratamento previsto para os sintomas ['Cough'] é: Asthma\n"
     ]
    }
   ],
   "source": [
    "sintomas = [\"Cough\"]\n",
    "idade = 5.0\n",
    "sexo = \"female\"\n",
    "natureza = \"high\"\n",
    "tratamento = \"Omalizumab\"\n",
    "tratamento = prever_tratamento(sintomas, idade, sexo, natureza, tratamento)\n",
    "print(f\"O tratamento previsto para os sintomas {sintomas} é: {tratamento}\")"
   ]
  }
 ],
 "metadata": {
  "kernelspec": {
   "display_name": "Python 3",
   "language": "python",
   "name": "python3"
  },
  "language_info": {
   "codemirror_mode": {
    "name": "ipython",
    "version": 3
   },
   "file_extension": ".py",
   "mimetype": "text/x-python",
   "name": "python",
   "nbconvert_exporter": "python",
   "pygments_lexer": "ipython3",
   "version": "3.11.7"
  }
 },
 "nbformat": 4,
 "nbformat_minor": 2
}
