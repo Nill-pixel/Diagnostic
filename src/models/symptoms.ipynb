{
 "cells": [
  {
   "cell_type": "code",
   "execution_count": 4,
   "id": "126fb5c7-52db-4957-824b-efe842b5b970",
   "metadata": {
    "dotnet_interactive": {
     "language": "csharp"
    },
    "polyglot_notebook": {
     "kernelName": "csharp"
    }
   },
   "outputs": [],
   "source": [
    "import pandas as pd\n",
    "import os\n",
    "import pickle\n",
    "from sklearn.model_selection import GridSearchCV\n",
    "from sklearn.model_selection import train_test_split\n",
    "from sklearn.preprocessing import LabelEncoder\n",
    "from sklearn.ensemble import RandomForestClassifier\n",
    "from sklearn.metrics import accuracy_score, classification_report, confusion_matrix"
   ]
  },
  {
   "cell_type": "code",
   "execution_count": 5,
   "id": "a808bd80-26d4-4008-bd8f-724ec4fcedb1",
   "metadata": {
    "dotnet_interactive": {
     "language": "csharp"
    },
    "polyglot_notebook": {
     "kernelName": "csharp"
    }
   },
   "outputs": [],
   "source": [
    "dsa = pd.read_csv('./data/respiratory_symptoms_and_treatment.csv')"
   ]
  },
  {
   "cell_type": "code",
   "execution_count": 6,
   "id": "d1e15c56-2e08-441a-b0fe-88b2896c8bd5",
   "metadata": {
    "dotnet_interactive": {
     "language": "csharp"
    },
    "polyglot_notebook": {
     "kernelName": "csharp"
    }
   },
   "outputs": [
    {
     "data": {
      "text/html": [
       "<div>\n",
       "<style scoped>\n",
       "    .dataframe tbody tr th:only-of-type {\n",
       "        vertical-align: middle;\n",
       "    }\n",
       "\n",
       "    .dataframe tbody tr th {\n",
       "        vertical-align: top;\n",
       "    }\n",
       "\n",
       "    .dataframe thead th {\n",
       "        text-align: right;\n",
       "    }\n",
       "</style>\n",
       "<table border=\"1\" class=\"dataframe\">\n",
       "  <thead>\n",
       "    <tr style=\"text-align: right;\">\n",
       "      <th></th>\n",
       "      <th>Symptoms</th>\n",
       "      <th>Age</th>\n",
       "      <th>Sex</th>\n",
       "      <th>Disease</th>\n",
       "      <th>Treatment</th>\n",
       "      <th>Nature</th>\n",
       "    </tr>\n",
       "  </thead>\n",
       "  <tbody>\n",
       "    <tr>\n",
       "      <th>0</th>\n",
       "      <td>coughing</td>\n",
       "      <td>5.0</td>\n",
       "      <td>female</td>\n",
       "      <td>Asthma</td>\n",
       "      <td>Omalizumab</td>\n",
       "      <td>high</td>\n",
       "    </tr>\n",
       "    <tr>\n",
       "      <th>1</th>\n",
       "      <td>tight feeling in the chest</td>\n",
       "      <td>4.0</td>\n",
       "      <td>female</td>\n",
       "      <td>Asthma</td>\n",
       "      <td>Mepolizumab</td>\n",
       "      <td>high</td>\n",
       "    </tr>\n",
       "    <tr>\n",
       "      <th>2</th>\n",
       "      <td>wheezing</td>\n",
       "      <td>6.0</td>\n",
       "      <td>male</td>\n",
       "      <td>Asthma</td>\n",
       "      <td>Mepolizumab</td>\n",
       "      <td>high</td>\n",
       "    </tr>\n",
       "    <tr>\n",
       "      <th>3</th>\n",
       "      <td>shortness of breath</td>\n",
       "      <td>7.0</td>\n",
       "      <td>male</td>\n",
       "      <td>Asthma</td>\n",
       "      <td>Mepolizumab</td>\n",
       "      <td>high</td>\n",
       "    </tr>\n",
       "    <tr>\n",
       "      <th>4</th>\n",
       "      <td>shortness of breath</td>\n",
       "      <td>9.0</td>\n",
       "      <td>male</td>\n",
       "      <td>Asthma</td>\n",
       "      <td>Mepolizumab</td>\n",
       "      <td>high</td>\n",
       "    </tr>\n",
       "  </tbody>\n",
       "</table>\n",
       "</div>"
      ],
      "text/plain": [
       "                     Symptoms  Age     Sex Disease    Treatment Nature\n",
       "0                   coughing   5.0  female  Asthma   Omalizumab   high\n",
       "1  tight feeling in the chest  4.0  female  Asthma  Mepolizumab   high\n",
       "2                    wheezing  6.0    male  Asthma  Mepolizumab   high\n",
       "3         shortness of breath  7.0    male  Asthma  Mepolizumab   high\n",
       "4         shortness of breath  9.0    male  Asthma  Mepolizumab   high"
      ]
     },
     "execution_count": 6,
     "metadata": {},
     "output_type": "execute_result"
    }
   ],
   "source": [
    "dsa.head()"
   ]
  },
  {
   "cell_type": "code",
   "execution_count": 7,
   "id": "44b7daa9-1d43-42ef-bf51-62e6317a6fb9",
   "metadata": {
    "dotnet_interactive": {
     "language": "csharp"
    },
    "polyglot_notebook": {
     "kernelName": "csharp"
    }
   },
   "outputs": [
    {
     "data": {
      "text/plain": [
       "Symptoms      696\n",
       "Age           342\n",
       "Sex           922\n",
       "Disease       340\n",
       "Treatment    2841\n",
       "Nature       2190\n",
       "dtype: int64"
      ]
     },
     "execution_count": 7,
     "metadata": {},
     "output_type": "execute_result"
    }
   ],
   "source": [
    "dsa.isnull().sum()"
   ]
  },
  {
   "cell_type": "code",
   "execution_count": 8,
   "id": "d0b6b17c-2d28-4204-b24e-38f17f0130ee",
   "metadata": {
    "dotnet_interactive": {
     "language": "csharp"
    },
    "polyglot_notebook": {
     "kernelName": "csharp"
    }
   },
   "outputs": [
    {
     "data": {
      "text/html": [
       "<div>\n",
       "<style scoped>\n",
       "    .dataframe tbody tr th:only-of-type {\n",
       "        vertical-align: middle;\n",
       "    }\n",
       "\n",
       "    .dataframe tbody tr th {\n",
       "        vertical-align: top;\n",
       "    }\n",
       "\n",
       "    .dataframe thead th {\n",
       "        text-align: right;\n",
       "    }\n",
       "</style>\n",
       "<table border=\"1\" class=\"dataframe\">\n",
       "  <thead>\n",
       "    <tr style=\"text-align: right;\">\n",
       "      <th></th>\n",
       "      <th>Age</th>\n",
       "    </tr>\n",
       "  </thead>\n",
       "  <tbody>\n",
       "    <tr>\n",
       "      <th>count</th>\n",
       "      <td>38195.000000</td>\n",
       "    </tr>\n",
       "    <tr>\n",
       "      <th>mean</th>\n",
       "      <td>36.997356</td>\n",
       "    </tr>\n",
       "    <tr>\n",
       "      <th>std</th>\n",
       "      <td>27.713575</td>\n",
       "    </tr>\n",
       "    <tr>\n",
       "      <th>min</th>\n",
       "      <td>1.000000</td>\n",
       "    </tr>\n",
       "    <tr>\n",
       "      <th>25%</th>\n",
       "      <td>12.000000</td>\n",
       "    </tr>\n",
       "    <tr>\n",
       "      <th>50%</th>\n",
       "      <td>30.000000</td>\n",
       "    </tr>\n",
       "    <tr>\n",
       "      <th>75%</th>\n",
       "      <td>63.000000</td>\n",
       "    </tr>\n",
       "    <tr>\n",
       "      <th>max</th>\n",
       "      <td>98.000000</td>\n",
       "    </tr>\n",
       "  </tbody>\n",
       "</table>\n",
       "</div>"
      ],
      "text/plain": [
       "                Age\n",
       "count  38195.000000\n",
       "mean      36.997356\n",
       "std       27.713575\n",
       "min        1.000000\n",
       "25%       12.000000\n",
       "50%       30.000000\n",
       "75%       63.000000\n",
       "max       98.000000"
      ]
     },
     "execution_count": 8,
     "metadata": {},
     "output_type": "execute_result"
    }
   ],
   "source": [
    "dsa.describe()"
   ]
  },
  {
   "cell_type": "code",
   "execution_count": 9,
   "id": "527d3d41",
   "metadata": {
    "dotnet_interactive": {
     "language": "csharp"
    },
    "polyglot_notebook": {
     "kernelName": "csharp"
    }
   },
   "outputs": [
    {
     "data": {
      "text/plain": [
       "array([' coughing', ' coughing ', ' fatigue', ' low energy',\n",
       "       ' shortness of breath', ' wheezing',\n",
       "       'A cough that lasts more than three weeks',\n",
       "       'A dry, crackling sound in the lungs while breathing in',\n",
       "       'Bluish skin', 'Chest congestion', 'Chest pain',\n",
       "       'Chest tightness or chest pain', 'Chills', 'Coughing up blood',\n",
       "       'Coughing up yellow or green mucus daily', 'Daytime sleepiness',\n",
       "       'Difficulties with memory and concentration', 'Dry mouth',\n",
       "       'Fatigue', 'Fatigue, feeling run-down or tired',\n",
       "       'Feeling run-down or tired', 'Fever', 'Frequently waking',\n",
       "       'Headache', 'Loss of appetite',\n",
       "       'Loss of appetite and unintentional weight loss',\n",
       "       'Low-grade fever', 'Morning headaches', 'Nasal congestion',\n",
       "       'Nausea', 'Night sweats', 'Pauses in breathing',\n",
       "       'Persistent dry coug', 'Persistent dry cough', 'Rapid breathing',\n",
       "       'Rapid heartbeat\\n', 'Runny nose', 'Shortness of breath',\n",
       "       'Shortness of breath ',\n",
       "       'Shortness of breath that gets worse during flare-ups', 'Snoring',\n",
       "       'Sore throat', 'Unusual moodiness',\n",
       "       'Weight loss from loss of appetite', 'Wheezing',\n",
       "       'Wider and rounder than normal fingertips and toes', 'allergy',\n",
       "       'breath', 'chest pain', 'chronic cough', 'cold', 'cough',\n",
       "       'cough with blood', 'coughing', 'diarrhea', 'distressing',\n",
       "       'dizziness', 'dry cough', 'edema', 'fainting',\n",
       "       'faster heart beating', 'fatigue', 'fever', 'greenish cough',\n",
       "       'heart palpitations', 'high fever', 'irritability', 'joint pain',\n",
       "       'loss of appetite', 'low energy', 'lower back pain', 'mucus',\n",
       "       'muscle aches', 'nausea', 'pain', 'runny nose', 'shaking',\n",
       "       'shallow breathing', 'sharp chest pain', 'short of breath',\n",
       "       'short, shallow and rapid breathing', 'shortness of breath',\n",
       "       'stuffy nose', 'sweating', 'tight feeling in the chest',\n",
       "       'vomiting', 'weight loss', 'wheezing', 'wheezing cough',\n",
       "       'whistling sound while breathing',\n",
       "       'whistling sound while you breathe', 'yellow cough', nan],\n",
       "      dtype=object)"
      ]
     },
     "execution_count": 9,
     "metadata": {},
     "output_type": "execute_result"
    }
   ],
   "source": [
    "dsa[\"Symptoms\"].sort_values(ascending=True).unique()"
   ]
  },
  {
   "cell_type": "code",
   "execution_count": 10,
   "id": "b6e37918",
   "metadata": {
    "dotnet_interactive": {
     "language": "csharp"
    },
    "polyglot_notebook": {
     "kernelName": "csharp"
    }
   },
   "outputs": [
    {
     "data": {
      "text/plain": [
       "array([' ', 'high', 'low', 'medium', nan], dtype=object)"
      ]
     },
     "execution_count": 10,
     "metadata": {},
     "output_type": "execute_result"
    }
   ],
   "source": [
    "dsa[\"Nature\"].sort_values(ascending=True).unique()"
   ]
  },
  {
   "cell_type": "code",
   "execution_count": 11,
   "id": "ef6ba262",
   "metadata": {
    "dotnet_interactive": {
     "language": "csharp"
    },
    "polyglot_notebook": {
     "kernelName": "csharp"
    }
   },
   "outputs": [
    {
     "data": {
      "text/plain": [
       "array(['Adaptive servo-ventilation', 'Antibiotic', 'Antibiotics',\n",
       "       'Antibiotics.', 'Chemotherapy', 'Cough medicine', 'Diuretics',\n",
       "       'Intrapulmonary Percussive Ventilation', 'Intravenous fluids',\n",
       "       'Mepolizumab', 'Omalizumab', 'Oseltamivir',\n",
       "       'Pulmonary rehabilitation', 'Surgery', 'antibiotics', 'aspirin',\n",
       "       'consult a doctor', 'consult doctor', 'ethambutol',\n",
       "       'hypertonic saline', 'inhaler', 'inhealer',\n",
       "       'isotonic sodium chloride solution', 'itraconazole', 'oxygen',\n",
       "       'oxyzen', 'pyrazinamide', 'rifampin', 'saline nose drops',\n",
       "       'stay away from cold places', 'steroids to reduce inflammation',\n",
       "       'surgery', 'x-ray', nan], dtype=object)"
      ]
     },
     "execution_count": 11,
     "metadata": {},
     "output_type": "execute_result"
    }
   ],
   "source": [
    "dsa[\"Treatment\"].sort_values(ascending=True).unique()"
   ]
  },
  {
   "cell_type": "code",
   "execution_count": 12,
   "id": "0892f90e",
   "metadata": {
    "dotnet_interactive": {
     "language": "csharp"
    },
    "polyglot_notebook": {
     "kernelName": "csharp"
    }
   },
   "outputs": [],
   "source": [
    "if \"Antibiotics.\" in dsa[\"Treatment\"]:\n",
    "    dsa.drop(index=\"Antibiotics.\")"
   ]
  },
  {
   "cell_type": "code",
   "execution_count": 13,
   "id": "00b094cd",
   "metadata": {
    "dotnet_interactive": {
     "language": "csharp"
    },
    "polyglot_notebook": {
     "kernelName": "csharp"
    }
   },
   "outputs": [
    {
     "data": {
      "text/plain": [
       "Treatment\n",
       "antibiotics                              5135\n",
       "Antibiotic                               4128\n",
       "Chemotherapy                             2928\n",
       "isotonic sodium chloride solution        2880\n",
       "Oseltamivir                              1872\n",
       "saline nose drops                        1800\n",
       "Diuretics                                1680\n",
       "oxyzen                                   1536\n",
       "consult a doctor                         1344\n",
       "Pulmonary rehabilitation                 1104\n",
       "consult doctor                            992\n",
       "Cough medicine                            960\n",
       "hypertonic saline                         850\n",
       "Adaptive servo-ventilation                816\n",
       "Intravenous fluids                        720\n",
       "ethambutol                                720\n",
       "steroids to reduce inflammation           672\n",
       "x-ray                                     624\n",
       "Antibiotics.                              528\n",
       "pyrazinamide                              528\n",
       "inhaler                                   525\n",
       "rifampin                                  432\n",
       "inhealer                                  432\n",
       "Mepolizumab                               423\n",
       "aspirin                                   384\n",
       "Intrapulmonary Percussive Ventilation     375\n",
       "Surgery                                   336\n",
       "Omalizumab                                251\n",
       "stay away from cold places                216\n",
       "itraconazole                              193\n",
       "oxygen                                    168\n",
       "surgery                                    96\n",
       "Antibiotics                                48\n",
       "Name: count, dtype: int64"
      ]
     },
     "execution_count": 13,
     "metadata": {},
     "output_type": "execute_result"
    }
   ],
   "source": [
    "dsa[\"Treatment\"].value_counts()"
   ]
  },
  {
   "cell_type": "code",
   "execution_count": 14,
   "id": "617343fd",
   "metadata": {
    "dotnet_interactive": {
     "language": "csharp"
    },
    "polyglot_notebook": {
     "kernelName": "csharp"
    }
   },
   "outputs": [
    {
     "data": {
      "text/plain": [
       "Symptoms      696\n",
       "Age           342\n",
       "Sex           922\n",
       "Disease       340\n",
       "Treatment    2841\n",
       "Nature       2190\n",
       "dtype: int64"
      ]
     },
     "execution_count": 14,
     "metadata": {},
     "output_type": "execute_result"
    }
   ],
   "source": [
    "dsa.isnull().sum()"
   ]
  },
  {
   "cell_type": "code",
   "execution_count": 15,
   "id": "601761a0",
   "metadata": {
    "dotnet_interactive": {
     "language": "csharp"
    },
    "polyglot_notebook": {
     "kernelName": "csharp"
    }
   },
   "outputs": [
    {
     "data": {
      "text/plain": [
       "Symptoms      object\n",
       "Age          float64\n",
       "Sex           object\n",
       "Disease       object\n",
       "Treatment     object\n",
       "Nature        object\n",
       "dtype: object"
      ]
     },
     "execution_count": 15,
     "metadata": {},
     "output_type": "execute_result"
    }
   ],
   "source": [
    "dsa.dtypes"
   ]
  },
  {
   "cell_type": "code",
   "execution_count": 16,
   "id": "7d908623",
   "metadata": {
    "dotnet_interactive": {
     "language": "csharp"
    },
    "polyglot_notebook": {
     "kernelName": "csharp"
    }
   },
   "outputs": [],
   "source": [
    "tratamento = dsa[\"Treatment\"].value_counts().index[0]"
   ]
  },
  {
   "cell_type": "code",
   "execution_count": 17,
   "id": "52f1db14",
   "metadata": {
    "dotnet_interactive": {
     "language": "csharp"
    },
    "polyglot_notebook": {
     "kernelName": "csharp"
    }
   },
   "outputs": [],
   "source": [
    "dsa[\"Treatment\"].fillna(tratamento, inplace=True)"
   ]
  },
  {
   "cell_type": "code",
   "execution_count": 18,
   "id": "acc58f65",
   "metadata": {
    "dotnet_interactive": {
     "language": "csharp"
    },
    "polyglot_notebook": {
     "kernelName": "csharp"
    }
   },
   "outputs": [
    {
     "data": {
      "text/plain": [
       "Symptoms      696\n",
       "Age           342\n",
       "Sex           922\n",
       "Disease       340\n",
       "Treatment       0\n",
       "Nature       2190\n",
       "dtype: int64"
      ]
     },
     "execution_count": 18,
     "metadata": {},
     "output_type": "execute_result"
    }
   ],
   "source": [
    "dsa.isnull().sum()"
   ]
  },
  {
   "cell_type": "code",
   "execution_count": 19,
   "id": "6f63ae68-bf2e-40a5-894b-5bf2e96bc28a",
   "metadata": {
    "dotnet_interactive": {
     "language": "csharp"
    },
    "polyglot_notebook": {
     "kernelName": "csharp"
    }
   },
   "outputs": [],
   "source": [
    "def moda(coluna,index):\n",
    "    moda = dsa[coluna].value_counts().index[index]\n",
    "    return dsa[coluna].fillna(moda, inplace=True)"
   ]
  },
  {
   "cell_type": "code",
   "execution_count": 20,
   "id": "f34ac83a-1121-43ed-b20e-605c2944b260",
   "metadata": {
    "dotnet_interactive": {
     "language": "csharp"
    },
    "polyglot_notebook": {
     "kernelName": "csharp"
    }
   },
   "outputs": [],
   "source": [
    "moda('Symptoms',0)\n",
    "moda('Age',0)\n",
    "moda('Sex',0)\n",
    "moda('Disease',0)\n",
    "moda('Treatment',0)\n",
    "moda('Nature',0)"
   ]
  },
  {
   "cell_type": "code",
   "execution_count": 21,
   "id": "d189f16f-ecf9-4d81-8712-c865d9a95683",
   "metadata": {
    "dotnet_interactive": {
     "language": "csharp"
    },
    "polyglot_notebook": {
     "kernelName": "csharp"
    }
   },
   "outputs": [
    {
     "data": {
      "text/plain": [
       "Symptoms     0\n",
       "Age          0\n",
       "Sex          0\n",
       "Disease      0\n",
       "Treatment    0\n",
       "Nature       0\n",
       "dtype: int64"
      ]
     },
     "execution_count": 21,
     "metadata": {},
     "output_type": "execute_result"
    }
   ],
   "source": [
    "dsa.isnull().sum()"
   ]
  },
  {
   "cell_type": "code",
   "execution_count": 22,
   "id": "6c507764-f7ac-4533-9317-11f15623c135",
   "metadata": {
    "dotnet_interactive": {
     "language": "csharp"
    },
    "polyglot_notebook": {
     "kernelName": "csharp"
    }
   },
   "outputs": [
    {
     "data": {
      "text/plain": [
       "array(['high', 'medium', 'low', ' '], dtype=object)"
      ]
     },
     "execution_count": 22,
     "metadata": {},
     "output_type": "execute_result"
    }
   ],
   "source": [
    "dsa['Nature'].unique()"
   ]
  },
  {
   "cell_type": "code",
   "execution_count": 23,
   "id": "7d7cc8df-6408-4f8b-a288-bd6942c37509",
   "metadata": {
    "dotnet_interactive": {
     "language": "csharp"
    },
    "polyglot_notebook": {
     "kernelName": "csharp"
    }
   },
   "outputs": [
    {
     "data": {
      "text/plain": [
       "array([' coughing', ' coughing ', ' fatigue', ' low energy',\n",
       "       ' shortness of breath', ' wheezing',\n",
       "       'A cough that lasts more than three weeks',\n",
       "       'A dry, crackling sound in the lungs while breathing in',\n",
       "       'Bluish skin', 'Chest congestion', 'Chest pain',\n",
       "       'Chest tightness or chest pain', 'Chills', 'Coughing up blood',\n",
       "       'Coughing up yellow or green mucus daily', 'Daytime sleepiness',\n",
       "       'Difficulties with memory and concentration', 'Dry mouth',\n",
       "       'Fatigue', 'Fatigue, feeling run-down or tired',\n",
       "       'Feeling run-down or tired', 'Fever', 'Frequently waking',\n",
       "       'Headache', 'Loss of appetite',\n",
       "       'Loss of appetite and unintentional weight loss',\n",
       "       'Low-grade fever', 'Morning headaches', 'Nasal congestion',\n",
       "       'Nausea', 'Night sweats', 'Pauses in breathing',\n",
       "       'Persistent dry coug', 'Persistent dry cough', 'Rapid breathing',\n",
       "       'Rapid heartbeat\\n', 'Runny nose', 'Shortness of breath',\n",
       "       'Shortness of breath ',\n",
       "       'Shortness of breath that gets worse during flare-ups', 'Snoring',\n",
       "       'Sore throat', 'Unusual moodiness',\n",
       "       'Weight loss from loss of appetite', 'Wheezing',\n",
       "       'Wider and rounder than normal fingertips and toes', 'allergy',\n",
       "       'breath', 'chest pain', 'chronic cough', 'cold', 'cough',\n",
       "       'cough with blood', 'coughing', 'diarrhea', 'distressing',\n",
       "       'dizziness', 'dry cough', 'edema', 'fainting',\n",
       "       'faster heart beating', 'fatigue', 'fever', 'greenish cough',\n",
       "       'heart palpitations', 'high fever', 'irritability', 'joint pain',\n",
       "       'loss of appetite', 'low energy', 'lower back pain', 'mucus',\n",
       "       'muscle aches', 'nausea', 'pain', 'runny nose', 'shaking',\n",
       "       'shallow breathing', 'sharp chest pain', 'short of breath',\n",
       "       'short, shallow and rapid breathing', 'shortness of breath',\n",
       "       'stuffy nose', 'sweating', 'tight feeling in the chest',\n",
       "       'vomiting', 'weight loss', 'wheezing', 'wheezing cough',\n",
       "       'whistling sound while breathing',\n",
       "       'whistling sound while you breathe', 'yellow cough'], dtype=object)"
      ]
     },
     "execution_count": 23,
     "metadata": {},
     "output_type": "execute_result"
    }
   ],
   "source": [
    "dsa['Symptoms'].sort_values(ascending=True).unique()"
   ]
  },
  {
   "cell_type": "code",
   "execution_count": 24,
   "id": "d27421fa-0451-4056-8247-3df595474c1a",
   "metadata": {
    "dotnet_interactive": {
     "language": "csharp"
    },
    "polyglot_notebook": {
     "kernelName": "csharp"
    }
   },
   "outputs": [
    {
     "data": {
      "text/plain": [
       "array([' coughing ', ' wheezing', ' shortness of breath', ' coughing',\n",
       "       ' low energy', ' fatigue'], dtype=object)"
      ]
     },
     "execution_count": 24,
     "metadata": {},
     "output_type": "execute_result"
    }
   ],
   "source": [
    "dsa[dsa.Symptoms.str.startswith(\" \")].Symptoms.unique()"
   ]
  },
  {
   "cell_type": "code",
   "execution_count": 25,
   "id": "0c089d19-cc0f-4569-8a61-1d41b6564a83",
   "metadata": {
    "dotnet_interactive": {
     "language": "csharp"
    },
    "polyglot_notebook": {
     "kernelName": "csharp"
    }
   },
   "outputs": [],
   "source": [
    "dsa['Symptoms'] = dsa['Symptoms'].replace(' coughing ', 'coughing')"
   ]
  },
  {
   "cell_type": "code",
   "execution_count": 26,
   "id": "37ca3c74-5a11-4afc-a3b3-fbf01431a6d7",
   "metadata": {
    "dotnet_interactive": {
     "language": "csharp"
    },
    "polyglot_notebook": {
     "kernelName": "csharp"
    }
   },
   "outputs": [],
   "source": [
    "dsa['Symptoms'] = dsa['Symptoms'].replace(' shortness of breath', 'shortness of breath')"
   ]
  },
  {
   "cell_type": "code",
   "execution_count": 27,
   "id": "c51915bc-e584-4a2d-adec-6783ce996216",
   "metadata": {
    "dotnet_interactive": {
     "language": "csharp"
    },
    "polyglot_notebook": {
     "kernelName": "csharp"
    }
   },
   "outputs": [],
   "source": [
    "dsa['Symptoms'] = dsa['Symptoms'].replace(' wheezing', 'wheezing')"
   ]
  },
  {
   "cell_type": "code",
   "execution_count": 28,
   "id": "6f08c4ea-06ad-4235-acf0-a1d43c57bdd3",
   "metadata": {
    "dotnet_interactive": {
     "language": "csharp"
    },
    "polyglot_notebook": {
     "kernelName": "csharp"
    }
   },
   "outputs": [],
   "source": [
    "dsa['Symptoms'] = dsa['Symptoms'].replace(' coughing', 'coughing')"
   ]
  },
  {
   "cell_type": "code",
   "execution_count": 29,
   "id": "63ca83aa-2b61-4772-a47f-781bc5c483b6",
   "metadata": {
    "dotnet_interactive": {
     "language": "csharp"
    },
    "polyglot_notebook": {
     "kernelName": "csharp"
    }
   },
   "outputs": [],
   "source": [
    "dsa['Symptoms'] = dsa['Symptoms'].replace(' low energy', 'low energy')"
   ]
  },
  {
   "cell_type": "code",
   "execution_count": 30,
   "id": "d5f2e902-7d9c-4e41-8de9-4cb6d8e85dbb",
   "metadata": {
    "dotnet_interactive": {
     "language": "csharp"
    },
    "polyglot_notebook": {
     "kernelName": "csharp"
    }
   },
   "outputs": [],
   "source": [
    "dsa['Symptoms'] = dsa['Symptoms'].replace(' fatigue', 'fatigue')\n",
    "dsa['Symptoms'] = dsa['Symptoms'].replace('whistling sound while breathing', 'whistling sound while you breathe')\n",
    "dsa['Symptoms'] = dsa['Symptoms'].replace('Fatigue, feeling run-down or tired', 'Fatigue')\n",
    "dsa['Symptoms'] = dsa['Symptoms'].replace('Loss of appetite and unintentional weight loss', 'Loss of appetite')\n",
    "dsa['Symptoms'] = dsa['Symptoms'].replace('Rapid heartbeat\\n', 'Rapid heartbeat')\n",
    "dsa['Symptoms'] = dsa['Symptoms'].replace('Shortness of breath that gets worse during flare-ups', 'Shortness of breath')\n",
    "dsa['Symptoms'] = dsa['Symptoms'].replace('Weight loss from loss of appetite', 'Loss of appetite')\n",
    "dsa['Symptoms'] = dsa['Symptoms'].replace('shortness of breath', 'Shortness of breath')\n",
    "dsa['Symptoms'] = dsa['Symptoms'].replace('short of breath', 'Shortness of breath')\n",
    "dsa['Symptoms'] = dsa['Symptoms'].replace('short, shallow and rapid breathing', 'Rapid heartbeat')\n",
    "dsa['Symptoms'] = dsa['Symptoms'].replace('allergy', 'Allergy')\n",
    "dsa['Symptoms'] = dsa['Symptoms'].replace('fatigue', 'Fatigue')\n",
    "dsa['Symptoms'] = dsa['Symptoms'].replace('nausea', 'Nausea')\n",
    "dsa['Symptoms'] = dsa['Symptoms'].replace('loss of appetite', 'Loss of appetite')\n",
    "dsa['Symptoms'] = dsa['Symptoms'].replace('wheezing cough', 'Wheezing')\n",
    "dsa['Symptoms'] = dsa['Symptoms'].replace('high fever', 'Fever')\n",
    "dsa['Symptoms'] = dsa['Symptoms'].replace('fever', 'Fever')\n",
    "dsa['Symptoms'] = dsa['Symptoms'].replace('Persistent dry coug', 'Cough')\n",
    "dsa['Symptoms'] = dsa['Symptoms'].replace('chest pain', 'Chest congestion')\n",
    "dsa['Symptoms'] = dsa['Symptoms'].replace('coughing', 'Cough')\n",
    "dsa['Symptoms'] = dsa['Symptoms'].replace('cough', 'Cough')\n",
    "dsa['Symptoms'] = dsa['Symptoms'].replace('chronic cough', 'Cough')\n",
    "dsa['Symptoms'] = dsa['Symptoms'].replace('cough with blood', 'Cough')\n",
    "dsa['Symptoms'] = dsa['Symptoms'].replace('Morning headaches', 'Headache')\n",
    "dsa['Symptoms'] = dsa['Symptoms'].replace('pain', 'joint pain')\n",
    "dsa['Symptoms'] = dsa['Symptoms'].replace('yellow cough', 'Cough')\n",
    "dsa['Symptoms'] = dsa['Symptoms'].replace('Coughing up blood', 'Cough')"
   ]
  },
  {
   "cell_type": "code",
   "execution_count": 31,
   "id": "8fb0014f-bff1-4db4-8cfa-43b401051bdf",
   "metadata": {
    "dotnet_interactive": {
     "language": "csharp"
    },
    "polyglot_notebook": {
     "kernelName": "csharp"
    }
   },
   "outputs": [
    {
     "data": {
      "text/plain": [
       "array(['A cough that lasts more than three weeks',\n",
       "       'A dry, crackling sound in the lungs while breathing in',\n",
       "       'Allergy', 'Bluish skin', 'Chest congestion', 'Chest pain',\n",
       "       'Chest tightness or chest pain', 'Chills', 'Cough',\n",
       "       'Coughing up yellow or green mucus daily', 'Daytime sleepiness',\n",
       "       'Difficulties with memory and concentration', 'Dry mouth',\n",
       "       'Fatigue', 'Feeling run-down or tired', 'Fever',\n",
       "       'Frequently waking', 'Headache', 'Loss of appetite',\n",
       "       'Low-grade fever', 'Nasal congestion', 'Nausea', 'Night sweats',\n",
       "       'Pauses in breathing', 'Persistent dry cough', 'Rapid breathing',\n",
       "       'Rapid heartbeat', 'Runny nose', 'Shortness of breath',\n",
       "       'Shortness of breath ', 'Snoring', 'Sore throat',\n",
       "       'Unusual moodiness', 'Wheezing',\n",
       "       'Wider and rounder than normal fingertips and toes', 'breath',\n",
       "       'cold', 'diarrhea', 'distressing', 'dizziness', 'dry cough',\n",
       "       'edema', 'fainting', 'faster heart beating', 'greenish cough',\n",
       "       'heart palpitations', 'irritability', 'joint pain', 'low energy',\n",
       "       'lower back pain', 'mucus', 'muscle aches', 'runny nose',\n",
       "       'shaking', 'shallow breathing', 'sharp chest pain', 'stuffy nose',\n",
       "       'sweating', 'tight feeling in the chest', 'vomiting',\n",
       "       'weight loss', 'wheezing', 'whistling sound while you breathe'],\n",
       "      dtype=object)"
      ]
     },
     "execution_count": 31,
     "metadata": {},
     "output_type": "execute_result"
    }
   ],
   "source": [
    "dsa['Symptoms'].sort_values(ascending=True).unique()"
   ]
  },
  {
   "cell_type": "code",
   "execution_count": 32,
   "id": "a8f51f73-67af-45bc-94ec-294f3c6676a7",
   "metadata": {
    "dotnet_interactive": {
     "language": "csharp"
    },
    "polyglot_notebook": {
     "kernelName": "csharp"
    }
   },
   "outputs": [
    {
     "data": {
      "text/plain": [
       "array(['Adaptive servo-ventilation', 'Antibiotic', 'Antibiotics',\n",
       "       'Antibiotics.', 'Chemotherapy', 'Cough medicine', 'Diuretics',\n",
       "       'Intrapulmonary Percussive Ventilation', 'Intravenous fluids',\n",
       "       'Mepolizumab', 'Omalizumab', 'Oseltamivir',\n",
       "       'Pulmonary rehabilitation', 'Surgery', 'antibiotics', 'aspirin',\n",
       "       'consult a doctor', 'consult doctor', 'ethambutol',\n",
       "       'hypertonic saline', 'inhaler', 'inhealer',\n",
       "       'isotonic sodium chloride solution', 'itraconazole', 'oxygen',\n",
       "       'oxyzen', 'pyrazinamide', 'rifampin', 'saline nose drops',\n",
       "       'stay away from cold places', 'steroids to reduce inflammation',\n",
       "       'surgery', 'x-ray'], dtype=object)"
      ]
     },
     "execution_count": 32,
     "metadata": {},
     "output_type": "execute_result"
    }
   ],
   "source": [
    "dsa['Treatment'].sort_values(ascending=True).unique()"
   ]
  },
  {
   "cell_type": "code",
   "execution_count": 33,
   "id": "cb31cf65-c102-4fa2-996f-e494747c85ca",
   "metadata": {
    "dotnet_interactive": {
     "language": "csharp"
    },
    "polyglot_notebook": {
     "kernelName": "csharp"
    }
   },
   "outputs": [
    {
     "data": {
      "text/plain": [
       "array(['Acute Respiratory Distress Syndrome', 'Asbestosis',\n",
       "       'Aspergillosis', 'Asthma', 'Bronchiectasis', 'Chronic Bronchitis',\n",
       "       'Chronic cough', 'Influenza', 'Mesothelioma', 'Pneumonia',\n",
       "       'Pneumothorax', 'Pulmonary hypertension',\n",
       "       'Respiratory syncytial virus', 'Tuberculosis', 'bronchiolitis',\n",
       "       'bronchitis', 'chronic obstructive pulmonary disease',\n",
       "       'sleep apnea'], dtype=object)"
      ]
     },
     "execution_count": 33,
     "metadata": {},
     "output_type": "execute_result"
    }
   ],
   "source": [
    "dsa['Disease'].sort_values(ascending=True).unique()"
   ]
  },
  {
   "cell_type": "code",
   "execution_count": 34,
   "id": "32cd26ae-88e7-4c20-bbc8-c131acf9423a",
   "metadata": {
    "dotnet_interactive": {
     "language": "csharp"
    },
    "polyglot_notebook": {
     "kernelName": "csharp"
    }
   },
   "outputs": [
    {
     "data": {
      "text/plain": [
       "array(['Shortness of breath '], dtype=object)"
      ]
     },
     "execution_count": 34,
     "metadata": {},
     "output_type": "execute_result"
    }
   ],
   "source": [
    "dsa[dsa.Symptoms.str.endswith(\" \")].Symptoms.unique()"
   ]
  },
  {
   "cell_type": "code",
   "execution_count": 35,
   "id": "41160325-4bd8-4ec6-a7db-661f5a2d3892",
   "metadata": {
    "dotnet_interactive": {
     "language": "csharp"
    },
    "polyglot_notebook": {
     "kernelName": "csharp"
    }
   },
   "outputs": [],
   "source": [
    "dsa['Symptoms'] = dsa['Symptoms'].replace('Shortness of breath ', 'shortness of breath')"
   ]
  },
  {
   "cell_type": "code",
   "execution_count": 36,
   "id": "6820827c-124f-4cc7-9e31-3fb1e3e09fc3",
   "metadata": {
    "dotnet_interactive": {
     "language": "csharp"
    },
    "polyglot_notebook": {
     "kernelName": "csharp"
    }
   },
   "outputs": [
    {
     "data": {
      "text/plain": [
       "array([], dtype=object)"
      ]
     },
     "execution_count": 36,
     "metadata": {},
     "output_type": "execute_result"
    }
   ],
   "source": [
    "dsa[dsa.Symptoms.str.startswith(\" \")].Symptoms.unique()"
   ]
  },
  {
   "cell_type": "code",
   "execution_count": 37,
   "id": "8b7db601-f337-470c-8793-f54c8bb43273",
   "metadata": {
    "dotnet_interactive": {
     "language": "csharp"
    },
    "polyglot_notebook": {
     "kernelName": "csharp"
    }
   },
   "outputs": [
    {
     "data": {
      "text/plain": [
       "array(['antibiotics', 'aspirin', 'Antibiotics', 'Antibiotics.',\n",
       "       'Antibiotic', 'Adaptive servo-ventilation'], dtype=object)"
      ]
     },
     "execution_count": 37,
     "metadata": {},
     "output_type": "execute_result"
    }
   ],
   "source": [
    "dsa[dsa.Treatment.str.startswith(\"A\") | dsa.Treatment.str.startswith(\"a\")].Treatment.unique()"
   ]
  },
  {
   "cell_type": "code",
   "execution_count": 38,
   "id": "96cc29eb-f69c-4666-ba29-d7e3b399c9b5",
   "metadata": {
    "dotnet_interactive": {
     "language": "csharp"
    },
    "polyglot_notebook": {
     "kernelName": "csharp"
    }
   },
   "outputs": [],
   "source": [
    "dsa['Treatment'] = dsa['Treatment'].replace('Antibiotics.', 'Antibiotic')\n",
    "dsa['Treatment'] = dsa['Treatment'].replace('Antibiotics', 'Antibiotic')\n",
    "dsa['Treatment'] = dsa['Treatment'].replace('antibiotics', 'Antibiotic')"
   ]
  },
  {
   "cell_type": "code",
   "execution_count": 39,
   "id": "c3bc1fad-bdac-4592-8a8c-73a678db157a",
   "metadata": {
    "dotnet_interactive": {
     "language": "csharp"
    },
    "polyglot_notebook": {
     "kernelName": "csharp"
    }
   },
   "outputs": [
    {
     "data": {
      "text/plain": [
       "array([], dtype=object)"
      ]
     },
     "execution_count": 39,
     "metadata": {},
     "output_type": "execute_result"
    }
   ],
   "source": [
    "dsa[dsa.Treatment.str.endswith(\" \")].Treatment.unique()"
   ]
  },
  {
   "cell_type": "code",
   "execution_count": 40,
   "id": "225c6acf-0e40-418a-be23-4d6c0f4c0c64",
   "metadata": {
    "dotnet_interactive": {
     "language": "csharp"
    },
    "polyglot_notebook": {
     "kernelName": "csharp"
    }
   },
   "outputs": [
    {
     "data": {
      "text/plain": [
       "array(['high', 'medium', 'low', ' '], dtype=object)"
      ]
     },
     "execution_count": 40,
     "metadata": {},
     "output_type": "execute_result"
    }
   ],
   "source": [
    "dsa.Nature.unique()"
   ]
  },
  {
   "cell_type": "code",
   "execution_count": 41,
   "id": "842258ec-cc7f-4e38-ba07-1496306c5951",
   "metadata": {
    "dotnet_interactive": {
     "language": "csharp"
    },
    "polyglot_notebook": {
     "kernelName": "csharp"
    }
   },
   "outputs": [
    {
     "data": {
      "text/plain": [
       "array([], dtype=object)"
      ]
     },
     "execution_count": 41,
     "metadata": {},
     "output_type": "execute_result"
    }
   ],
   "source": [
    "dsa[dsa.Disease.str.startswith(\" \")].Disease.unique()"
   ]
  },
  {
   "cell_type": "code",
   "execution_count": 42,
   "id": "62142cc8-0771-4940-8804-7106774c78a7",
   "metadata": {
    "dotnet_interactive": {
     "language": "csharp"
    },
    "polyglot_notebook": {
     "kernelName": "csharp"
    }
   },
   "outputs": [
    {
     "data": {
      "text/plain": [
       "array([], dtype=object)"
      ]
     },
     "execution_count": 42,
     "metadata": {},
     "output_type": "execute_result"
    }
   ],
   "source": [
    "dsa[dsa.Disease.str.endswith(\" \")].Disease.unique()"
   ]
  },
  {
   "cell_type": "code",
   "execution_count": 43,
   "id": "83851dc5-6586-4a39-a3ec-855a77e929f2",
   "metadata": {
    "dotnet_interactive": {
     "language": "csharp"
    },
    "polyglot_notebook": {
     "kernelName": "csharp"
    }
   },
   "outputs": [
    {
     "data": {
      "text/plain": [
       "array([], dtype=object)"
      ]
     },
     "execution_count": 43,
     "metadata": {},
     "output_type": "execute_result"
    }
   ],
   "source": [
    "dsa[dsa.Sex.str.endswith(\" \")].Sex.unique()"
   ]
  },
  {
   "cell_type": "code",
   "execution_count": 44,
   "id": "96f7db22-296d-4532-ad93-05a4c881997a",
   "metadata": {
    "dotnet_interactive": {
     "language": "csharp"
    },
    "polyglot_notebook": {
     "kernelName": "csharp"
    }
   },
   "outputs": [
    {
     "data": {
      "text/plain": [
       "array([], dtype=object)"
      ]
     },
     "execution_count": 44,
     "metadata": {},
     "output_type": "execute_result"
    }
   ],
   "source": [
    "dsa[dsa.Sex.str.startswith(\" \")].Sex.unique()"
   ]
  },
  {
   "cell_type": "code",
   "execution_count": 45,
   "id": "9fb9a6d8-91c4-4ff0-8b68-5144aa503ecb",
   "metadata": {
    "dotnet_interactive": {
     "language": "csharp"
    },
    "polyglot_notebook": {
     "kernelName": "csharp"
    }
   },
   "outputs": [],
   "source": [
    "label_encoder = LabelEncoder()"
   ]
  },
  {
   "cell_type": "code",
   "execution_count": 46,
   "id": "6856fbec-d3b8-4665-a315-41c4b18df4ea",
   "metadata": {
    "dotnet_interactive": {
     "language": "csharp"
    },
    "polyglot_notebook": {
     "kernelName": "csharp"
    }
   },
   "outputs": [],
   "source": [
    "dsa['Disease'] = label_encoder.fit_transform(dsa['Disease'])"
   ]
  },
  {
   "cell_type": "code",
   "execution_count": 47,
   "id": "a8772f44-0c17-44d5-85c9-1e36c10a31e2",
   "metadata": {
    "dotnet_interactive": {
     "language": "csharp"
    },
    "polyglot_notebook": {
     "kernelName": "csharp"
    }
   },
   "outputs": [],
   "source": [
    "dsa['Symptoms'] = label_encoder.fit_transform(dsa['Symptoms'])"
   ]
  },
  {
   "cell_type": "code",
   "execution_count": 48,
   "id": "fe848dc6-fe30-442d-b39f-c8c7223e1bb6",
   "metadata": {
    "dotnet_interactive": {
     "language": "csharp"
    },
    "polyglot_notebook": {
     "kernelName": "csharp"
    }
   },
   "outputs": [],
   "source": [
    "dsa['Sex'] = label_encoder.fit_transform(dsa['Sex'])"
   ]
  },
  {
   "cell_type": "code",
   "execution_count": 49,
   "id": "80803fdb-e18a-4466-80bf-2a828ab97f3f",
   "metadata": {
    "dotnet_interactive": {
     "language": "csharp"
    },
    "polyglot_notebook": {
     "kernelName": "csharp"
    }
   },
   "outputs": [],
   "source": [
    "dsa['Treatment'] = label_encoder.fit_transform(dsa['Treatment'])"
   ]
  },
  {
   "cell_type": "code",
   "execution_count": 50,
   "id": "881f6242-4685-4edc-9a90-21c707602938",
   "metadata": {
    "dotnet_interactive": {
     "language": "csharp"
    },
    "polyglot_notebook": {
     "kernelName": "csharp"
    }
   },
   "outputs": [],
   "source": [
    "dsa['Nature'] = label_encoder.fit_transform(dsa['Nature'])"
   ]
  },
  {
   "cell_type": "code",
   "execution_count": 51,
   "id": "fa389be6-5d06-4534-89fb-7fcf728d5a3e",
   "metadata": {
    "dotnet_interactive": {
     "language": "csharp"
    },
    "polyglot_notebook": {
     "kernelName": "csharp"
    }
   },
   "outputs": [
    {
     "data": {
      "text/plain": [
       "Symptoms       int32\n",
       "Age          float64\n",
       "Sex            int32\n",
       "Disease        int32\n",
       "Treatment      int32\n",
       "Nature         int32\n",
       "dtype: object"
      ]
     },
     "execution_count": 51,
     "metadata": {},
     "output_type": "execute_result"
    }
   ],
   "source": [
    "dsa.dtypes"
   ]
  },
  {
   "cell_type": "code",
   "execution_count": 52,
   "id": "4b84c869-98ac-40ea-bd98-485238e8e639",
   "metadata": {
    "dotnet_interactive": {
     "language": "csharp"
    },
    "polyglot_notebook": {
     "kernelName": "csharp"
    }
   },
   "outputs": [],
   "source": [
    "X = dsa.drop('Disease', axis=1)\n",
    "y = dsa['Disease']"
   ]
  },
  {
   "cell_type": "code",
   "execution_count": 53,
   "id": "9a37498f-eb57-487a-bd2d-61088a085e14",
   "metadata": {
    "dotnet_interactive": {
     "language": "csharp"
    },
    "polyglot_notebook": {
     "kernelName": "csharp"
    }
   },
   "outputs": [],
   "source": [
    "X_train, X_test, y_train, y_test = train_test_split(X, y, test_size=0.2, random_state=42)"
   ]
  },
  {
   "cell_type": "code",
   "execution_count": 54,
   "id": "c00e5a6c-dc49-4c40-9f7a-006859a8627b",
   "metadata": {
    "dotnet_interactive": {
     "language": "csharp"
    },
    "polyglot_notebook": {
     "kernelName": "csharp"
    }
   },
   "outputs": [
    {
     "data": {
      "text/html": [
       "<style>#sk-container-id-1 {color: black;background-color: white;}#sk-container-id-1 pre{padding: 0;}#sk-container-id-1 div.sk-toggleable {background-color: white;}#sk-container-id-1 label.sk-toggleable__label {cursor: pointer;display: block;width: 100%;margin-bottom: 0;padding: 0.3em;box-sizing: border-box;text-align: center;}#sk-container-id-1 label.sk-toggleable__label-arrow:before {content: \"▸\";float: left;margin-right: 0.25em;color: #696969;}#sk-container-id-1 label.sk-toggleable__label-arrow:hover:before {color: black;}#sk-container-id-1 div.sk-estimator:hover label.sk-toggleable__label-arrow:before {color: black;}#sk-container-id-1 div.sk-toggleable__content {max-height: 0;max-width: 0;overflow: hidden;text-align: left;background-color: #f0f8ff;}#sk-container-id-1 div.sk-toggleable__content pre {margin: 0.2em;color: black;border-radius: 0.25em;background-color: #f0f8ff;}#sk-container-id-1 input.sk-toggleable__control:checked~div.sk-toggleable__content {max-height: 200px;max-width: 100%;overflow: auto;}#sk-container-id-1 input.sk-toggleable__control:checked~label.sk-toggleable__label-arrow:before {content: \"▾\";}#sk-container-id-1 div.sk-estimator input.sk-toggleable__control:checked~label.sk-toggleable__label {background-color: #d4ebff;}#sk-container-id-1 div.sk-label input.sk-toggleable__control:checked~label.sk-toggleable__label {background-color: #d4ebff;}#sk-container-id-1 input.sk-hidden--visually {border: 0;clip: rect(1px 1px 1px 1px);clip: rect(1px, 1px, 1px, 1px);height: 1px;margin: -1px;overflow: hidden;padding: 0;position: absolute;width: 1px;}#sk-container-id-1 div.sk-estimator {font-family: monospace;background-color: #f0f8ff;border: 1px dotted black;border-radius: 0.25em;box-sizing: border-box;margin-bottom: 0.5em;}#sk-container-id-1 div.sk-estimator:hover {background-color: #d4ebff;}#sk-container-id-1 div.sk-parallel-item::after {content: \"\";width: 100%;border-bottom: 1px solid gray;flex-grow: 1;}#sk-container-id-1 div.sk-label:hover label.sk-toggleable__label {background-color: #d4ebff;}#sk-container-id-1 div.sk-serial::before {content: \"\";position: absolute;border-left: 1px solid gray;box-sizing: border-box;top: 0;bottom: 0;left: 50%;z-index: 0;}#sk-container-id-1 div.sk-serial {display: flex;flex-direction: column;align-items: center;background-color: white;padding-right: 0.2em;padding-left: 0.2em;position: relative;}#sk-container-id-1 div.sk-item {position: relative;z-index: 1;}#sk-container-id-1 div.sk-parallel {display: flex;align-items: stretch;justify-content: center;background-color: white;position: relative;}#sk-container-id-1 div.sk-item::before, #sk-container-id-1 div.sk-parallel-item::before {content: \"\";position: absolute;border-left: 1px solid gray;box-sizing: border-box;top: 0;bottom: 0;left: 50%;z-index: -1;}#sk-container-id-1 div.sk-parallel-item {display: flex;flex-direction: column;z-index: 1;position: relative;background-color: white;}#sk-container-id-1 div.sk-parallel-item:first-child::after {align-self: flex-end;width: 50%;}#sk-container-id-1 div.sk-parallel-item:last-child::after {align-self: flex-start;width: 50%;}#sk-container-id-1 div.sk-parallel-item:only-child::after {width: 0;}#sk-container-id-1 div.sk-dashed-wrapped {border: 1px dashed gray;margin: 0 0.4em 0.5em 0.4em;box-sizing: border-box;padding-bottom: 0.4em;background-color: white;}#sk-container-id-1 div.sk-label label {font-family: monospace;font-weight: bold;display: inline-block;line-height: 1.2em;}#sk-container-id-1 div.sk-label-container {text-align: center;}#sk-container-id-1 div.sk-container {/* jupyter's `normalize.less` sets `[hidden] { display: none; }` but bootstrap.min.css set `[hidden] { display: none !important; }` so we also need the `!important` here to be able to override the default hidden behavior on the sphinx rendered scikit-learn.org. See: https://github.com/scikit-learn/scikit-learn/issues/21755 */display: inline-block !important;position: relative;}#sk-container-id-1 div.sk-text-repr-fallback {display: none;}</style><div id=\"sk-container-id-1\" class=\"sk-top-container\"><div class=\"sk-text-repr-fallback\"><pre>RandomForestClassifier(random_state=42)</pre><b>In a Jupyter environment, please rerun this cell to show the HTML representation or trust the notebook. <br />On GitHub, the HTML representation is unable to render, please try loading this page with nbviewer.org.</b></div><div class=\"sk-container\" hidden><div class=\"sk-item\"><div class=\"sk-estimator sk-toggleable\"><input class=\"sk-toggleable__control sk-hidden--visually\" id=\"sk-estimator-id-1\" type=\"checkbox\" checked><label for=\"sk-estimator-id-1\" class=\"sk-toggleable__label sk-toggleable__label-arrow\">RandomForestClassifier</label><div class=\"sk-toggleable__content\"><pre>RandomForestClassifier(random_state=42)</pre></div></div></div></div></div>"
      ],
      "text/plain": [
       "RandomForestClassifier(random_state=42)"
      ]
     },
     "execution_count": 54,
     "metadata": {},
     "output_type": "execute_result"
    }
   ],
   "source": [
    "model = RandomForestClassifier(n_estimators=100, random_state=42)\n",
    "\n",
    "# Treinar o modelo\n",
    "model.fit(X_train, y_train)"
   ]
  },
  {
   "cell_type": "code",
   "execution_count": 55,
   "id": "2026e9cd-a972-4117-8e7a-551685eea809",
   "metadata": {
    "dotnet_interactive": {
     "language": "csharp"
    },
    "polyglot_notebook": {
     "kernelName": "csharp"
    }
   },
   "outputs": [
    {
     "name": "stdout",
     "output_type": "stream",
     "text": [
      "Acurácia: 0.99\n",
      "              precision    recall  f1-score   support\n",
      "\n",
      "           0       1.00      1.00      1.00       168\n",
      "           1       1.00      0.94      0.97       109\n",
      "           2       1.00      0.95      0.98       108\n",
      "           3       1.00      0.98      0.99       210\n",
      "           4       0.99      0.99      0.99       398\n",
      "           5       1.00      1.00      1.00       419\n",
      "           6       0.93      1.00      0.97       172\n",
      "           7       1.00      1.00      1.00       325\n",
      "           8       1.00      1.00      1.00       647\n",
      "           9       0.99      0.98      0.99      1276\n",
      "          10       1.00      1.00      1.00       600\n",
      "          11       1.00      1.00      1.00       315\n",
      "          12       1.00      1.00      1.00       154\n",
      "          13       1.00      1.00      1.00       326\n",
      "          14       0.99      0.99      0.99       522\n",
      "          15       0.99      1.00      1.00      1001\n",
      "          16       1.00      1.00      1.00       801\n",
      "          17       1.00      1.00      1.00       157\n",
      "\n",
      "    accuracy                           0.99      7708\n",
      "   macro avg       0.99      0.99      0.99      7708\n",
      "weighted avg       0.99      0.99      0.99      7708\n",
      "\n"
     ]
    }
   ],
   "source": [
    "y_pred = model.predict(X_test)\n",
    "\n",
    "# Calcular a acurácia\n",
    "accuracy = accuracy_score(y_test, y_pred)\n",
    "print(f'Acurácia: {accuracy:.2f}')\n",
    "\n",
    "# Imprimir relatório de classificação\n",
    "print(classification_report(y_test, y_pred))\n",
    "\n",
    "# Matriz de confusão\n",
    "conf_matrix = confusion_matrix(y_test, y_pred)"
   ]
  },
  {
   "cell_type": "code",
   "execution_count": 56,
   "id": "fcbcd379-96fd-4a3d-bc1d-a2e241ccb385",
   "metadata": {
    "dotnet_interactive": {
     "language": "csharp"
    },
    "polyglot_notebook": {
     "kernelName": "csharp"
    }
   },
   "outputs": [
    {
     "data": {
      "text/html": [
       "<div>\n",
       "<style scoped>\n",
       "    .dataframe tbody tr th:only-of-type {\n",
       "        vertical-align: middle;\n",
       "    }\n",
       "\n",
       "    .dataframe tbody tr th {\n",
       "        vertical-align: top;\n",
       "    }\n",
       "\n",
       "    .dataframe thead th {\n",
       "        text-align: right;\n",
       "    }\n",
       "</style>\n",
       "<table border=\"1\" class=\"dataframe\">\n",
       "  <thead>\n",
       "    <tr style=\"text-align: right;\">\n",
       "      <th></th>\n",
       "      <th>0</th>\n",
       "      <th>1</th>\n",
       "      <th>2</th>\n",
       "      <th>3</th>\n",
       "      <th>4</th>\n",
       "      <th>5</th>\n",
       "      <th>6</th>\n",
       "      <th>7</th>\n",
       "      <th>8</th>\n",
       "      <th>9</th>\n",
       "      <th>10</th>\n",
       "      <th>11</th>\n",
       "      <th>12</th>\n",
       "      <th>13</th>\n",
       "      <th>14</th>\n",
       "      <th>15</th>\n",
       "      <th>16</th>\n",
       "      <th>17</th>\n",
       "    </tr>\n",
       "  </thead>\n",
       "  <tbody>\n",
       "    <tr>\n",
       "      <th>0</th>\n",
       "      <td>168</td>\n",
       "      <td>0</td>\n",
       "      <td>0</td>\n",
       "      <td>0</td>\n",
       "      <td>0</td>\n",
       "      <td>0</td>\n",
       "      <td>0</td>\n",
       "      <td>0</td>\n",
       "      <td>0</td>\n",
       "      <td>0</td>\n",
       "      <td>0</td>\n",
       "      <td>0</td>\n",
       "      <td>0</td>\n",
       "      <td>0</td>\n",
       "      <td>0</td>\n",
       "      <td>0</td>\n",
       "      <td>0</td>\n",
       "      <td>0</td>\n",
       "    </tr>\n",
       "    <tr>\n",
       "      <th>1</th>\n",
       "      <td>0</td>\n",
       "      <td>103</td>\n",
       "      <td>0</td>\n",
       "      <td>0</td>\n",
       "      <td>0</td>\n",
       "      <td>0</td>\n",
       "      <td>0</td>\n",
       "      <td>0</td>\n",
       "      <td>0</td>\n",
       "      <td>6</td>\n",
       "      <td>0</td>\n",
       "      <td>0</td>\n",
       "      <td>0</td>\n",
       "      <td>0</td>\n",
       "      <td>0</td>\n",
       "      <td>0</td>\n",
       "      <td>0</td>\n",
       "      <td>0</td>\n",
       "    </tr>\n",
       "    <tr>\n",
       "      <th>2</th>\n",
       "      <td>0</td>\n",
       "      <td>0</td>\n",
       "      <td>103</td>\n",
       "      <td>0</td>\n",
       "      <td>5</td>\n",
       "      <td>0</td>\n",
       "      <td>0</td>\n",
       "      <td>0</td>\n",
       "      <td>0</td>\n",
       "      <td>0</td>\n",
       "      <td>0</td>\n",
       "      <td>0</td>\n",
       "      <td>0</td>\n",
       "      <td>0</td>\n",
       "      <td>0</td>\n",
       "      <td>0</td>\n",
       "      <td>0</td>\n",
       "      <td>0</td>\n",
       "    </tr>\n",
       "    <tr>\n",
       "      <th>3</th>\n",
       "      <td>0</td>\n",
       "      <td>0</td>\n",
       "      <td>0</td>\n",
       "      <td>205</td>\n",
       "      <td>0</td>\n",
       "      <td>0</td>\n",
       "      <td>0</td>\n",
       "      <td>0</td>\n",
       "      <td>0</td>\n",
       "      <td>5</td>\n",
       "      <td>0</td>\n",
       "      <td>0</td>\n",
       "      <td>0</td>\n",
       "      <td>0</td>\n",
       "      <td>0</td>\n",
       "      <td>0</td>\n",
       "      <td>0</td>\n",
       "      <td>0</td>\n",
       "    </tr>\n",
       "    <tr>\n",
       "      <th>4</th>\n",
       "      <td>0</td>\n",
       "      <td>0</td>\n",
       "      <td>0</td>\n",
       "      <td>0</td>\n",
       "      <td>393</td>\n",
       "      <td>0</td>\n",
       "      <td>5</td>\n",
       "      <td>0</td>\n",
       "      <td>0</td>\n",
       "      <td>0</td>\n",
       "      <td>0</td>\n",
       "      <td>0</td>\n",
       "      <td>0</td>\n",
       "      <td>0</td>\n",
       "      <td>0</td>\n",
       "      <td>0</td>\n",
       "      <td>0</td>\n",
       "      <td>0</td>\n",
       "    </tr>\n",
       "    <tr>\n",
       "      <th>5</th>\n",
       "      <td>0</td>\n",
       "      <td>0</td>\n",
       "      <td>0</td>\n",
       "      <td>0</td>\n",
       "      <td>0</td>\n",
       "      <td>419</td>\n",
       "      <td>0</td>\n",
       "      <td>0</td>\n",
       "      <td>0</td>\n",
       "      <td>0</td>\n",
       "      <td>0</td>\n",
       "      <td>0</td>\n",
       "      <td>0</td>\n",
       "      <td>0</td>\n",
       "      <td>0</td>\n",
       "      <td>0</td>\n",
       "      <td>0</td>\n",
       "      <td>0</td>\n",
       "    </tr>\n",
       "    <tr>\n",
       "      <th>6</th>\n",
       "      <td>0</td>\n",
       "      <td>0</td>\n",
       "      <td>0</td>\n",
       "      <td>0</td>\n",
       "      <td>0</td>\n",
       "      <td>0</td>\n",
       "      <td>172</td>\n",
       "      <td>0</td>\n",
       "      <td>0</td>\n",
       "      <td>0</td>\n",
       "      <td>0</td>\n",
       "      <td>0</td>\n",
       "      <td>0</td>\n",
       "      <td>0</td>\n",
       "      <td>0</td>\n",
       "      <td>0</td>\n",
       "      <td>0</td>\n",
       "      <td>0</td>\n",
       "    </tr>\n",
       "    <tr>\n",
       "      <th>7</th>\n",
       "      <td>0</td>\n",
       "      <td>0</td>\n",
       "      <td>0</td>\n",
       "      <td>0</td>\n",
       "      <td>0</td>\n",
       "      <td>0</td>\n",
       "      <td>0</td>\n",
       "      <td>325</td>\n",
       "      <td>0</td>\n",
       "      <td>0</td>\n",
       "      <td>0</td>\n",
       "      <td>0</td>\n",
       "      <td>0</td>\n",
       "      <td>0</td>\n",
       "      <td>0</td>\n",
       "      <td>0</td>\n",
       "      <td>0</td>\n",
       "      <td>0</td>\n",
       "    </tr>\n",
       "    <tr>\n",
       "      <th>8</th>\n",
       "      <td>0</td>\n",
       "      <td>0</td>\n",
       "      <td>0</td>\n",
       "      <td>0</td>\n",
       "      <td>0</td>\n",
       "      <td>0</td>\n",
       "      <td>0</td>\n",
       "      <td>0</td>\n",
       "      <td>647</td>\n",
       "      <td>0</td>\n",
       "      <td>0</td>\n",
       "      <td>0</td>\n",
       "      <td>0</td>\n",
       "      <td>0</td>\n",
       "      <td>0</td>\n",
       "      <td>0</td>\n",
       "      <td>0</td>\n",
       "      <td>0</td>\n",
       "    </tr>\n",
       "    <tr>\n",
       "      <th>9</th>\n",
       "      <td>0</td>\n",
       "      <td>0</td>\n",
       "      <td>0</td>\n",
       "      <td>0</td>\n",
       "      <td>0</td>\n",
       "      <td>0</td>\n",
       "      <td>7</td>\n",
       "      <td>0</td>\n",
       "      <td>0</td>\n",
       "      <td>1254</td>\n",
       "      <td>0</td>\n",
       "      <td>0</td>\n",
       "      <td>0</td>\n",
       "      <td>0</td>\n",
       "      <td>6</td>\n",
       "      <td>9</td>\n",
       "      <td>0</td>\n",
       "      <td>0</td>\n",
       "    </tr>\n",
       "    <tr>\n",
       "      <th>10</th>\n",
       "      <td>0</td>\n",
       "      <td>0</td>\n",
       "      <td>0</td>\n",
       "      <td>0</td>\n",
       "      <td>0</td>\n",
       "      <td>0</td>\n",
       "      <td>0</td>\n",
       "      <td>0</td>\n",
       "      <td>0</td>\n",
       "      <td>0</td>\n",
       "      <td>600</td>\n",
       "      <td>0</td>\n",
       "      <td>0</td>\n",
       "      <td>0</td>\n",
       "      <td>0</td>\n",
       "      <td>0</td>\n",
       "      <td>0</td>\n",
       "      <td>0</td>\n",
       "    </tr>\n",
       "    <tr>\n",
       "      <th>11</th>\n",
       "      <td>0</td>\n",
       "      <td>0</td>\n",
       "      <td>0</td>\n",
       "      <td>0</td>\n",
       "      <td>0</td>\n",
       "      <td>0</td>\n",
       "      <td>0</td>\n",
       "      <td>0</td>\n",
       "      <td>0</td>\n",
       "      <td>0</td>\n",
       "      <td>0</td>\n",
       "      <td>315</td>\n",
       "      <td>0</td>\n",
       "      <td>0</td>\n",
       "      <td>0</td>\n",
       "      <td>0</td>\n",
       "      <td>0</td>\n",
       "      <td>0</td>\n",
       "    </tr>\n",
       "    <tr>\n",
       "      <th>12</th>\n",
       "      <td>0</td>\n",
       "      <td>0</td>\n",
       "      <td>0</td>\n",
       "      <td>0</td>\n",
       "      <td>0</td>\n",
       "      <td>0</td>\n",
       "      <td>0</td>\n",
       "      <td>0</td>\n",
       "      <td>0</td>\n",
       "      <td>0</td>\n",
       "      <td>0</td>\n",
       "      <td>0</td>\n",
       "      <td>154</td>\n",
       "      <td>0</td>\n",
       "      <td>0</td>\n",
       "      <td>0</td>\n",
       "      <td>0</td>\n",
       "      <td>0</td>\n",
       "    </tr>\n",
       "    <tr>\n",
       "      <th>13</th>\n",
       "      <td>0</td>\n",
       "      <td>0</td>\n",
       "      <td>0</td>\n",
       "      <td>0</td>\n",
       "      <td>0</td>\n",
       "      <td>0</td>\n",
       "      <td>0</td>\n",
       "      <td>0</td>\n",
       "      <td>0</td>\n",
       "      <td>0</td>\n",
       "      <td>0</td>\n",
       "      <td>0</td>\n",
       "      <td>0</td>\n",
       "      <td>326</td>\n",
       "      <td>0</td>\n",
       "      <td>0</td>\n",
       "      <td>0</td>\n",
       "      <td>0</td>\n",
       "    </tr>\n",
       "    <tr>\n",
       "      <th>14</th>\n",
       "      <td>0</td>\n",
       "      <td>0</td>\n",
       "      <td>0</td>\n",
       "      <td>0</td>\n",
       "      <td>0</td>\n",
       "      <td>0</td>\n",
       "      <td>0</td>\n",
       "      <td>0</td>\n",
       "      <td>0</td>\n",
       "      <td>4</td>\n",
       "      <td>0</td>\n",
       "      <td>0</td>\n",
       "      <td>0</td>\n",
       "      <td>0</td>\n",
       "      <td>518</td>\n",
       "      <td>0</td>\n",
       "      <td>0</td>\n",
       "      <td>0</td>\n",
       "    </tr>\n",
       "    <tr>\n",
       "      <th>15</th>\n",
       "      <td>0</td>\n",
       "      <td>0</td>\n",
       "      <td>0</td>\n",
       "      <td>0</td>\n",
       "      <td>0</td>\n",
       "      <td>0</td>\n",
       "      <td>0</td>\n",
       "      <td>0</td>\n",
       "      <td>0</td>\n",
       "      <td>0</td>\n",
       "      <td>0</td>\n",
       "      <td>0</td>\n",
       "      <td>0</td>\n",
       "      <td>0</td>\n",
       "      <td>0</td>\n",
       "      <td>1001</td>\n",
       "      <td>0</td>\n",
       "      <td>0</td>\n",
       "    </tr>\n",
       "    <tr>\n",
       "      <th>16</th>\n",
       "      <td>0</td>\n",
       "      <td>0</td>\n",
       "      <td>0</td>\n",
       "      <td>0</td>\n",
       "      <td>0</td>\n",
       "      <td>0</td>\n",
       "      <td>0</td>\n",
       "      <td>0</td>\n",
       "      <td>0</td>\n",
       "      <td>0</td>\n",
       "      <td>0</td>\n",
       "      <td>0</td>\n",
       "      <td>0</td>\n",
       "      <td>0</td>\n",
       "      <td>0</td>\n",
       "      <td>0</td>\n",
       "      <td>801</td>\n",
       "      <td>0</td>\n",
       "    </tr>\n",
       "    <tr>\n",
       "      <th>17</th>\n",
       "      <td>0</td>\n",
       "      <td>0</td>\n",
       "      <td>0</td>\n",
       "      <td>0</td>\n",
       "      <td>0</td>\n",
       "      <td>0</td>\n",
       "      <td>0</td>\n",
       "      <td>0</td>\n",
       "      <td>0</td>\n",
       "      <td>0</td>\n",
       "      <td>0</td>\n",
       "      <td>0</td>\n",
       "      <td>0</td>\n",
       "      <td>0</td>\n",
       "      <td>0</td>\n",
       "      <td>0</td>\n",
       "      <td>0</td>\n",
       "      <td>157</td>\n",
       "    </tr>\n",
       "  </tbody>\n",
       "</table>\n",
       "</div>"
      ],
      "text/plain": [
       "     0    1    2    3    4    5    6    7    8     9    10   11   12   13  \\\n",
       "0   168    0    0    0    0    0    0    0    0     0    0    0    0    0   \n",
       "1     0  103    0    0    0    0    0    0    0     6    0    0    0    0   \n",
       "2     0    0  103    0    5    0    0    0    0     0    0    0    0    0   \n",
       "3     0    0    0  205    0    0    0    0    0     5    0    0    0    0   \n",
       "4     0    0    0    0  393    0    5    0    0     0    0    0    0    0   \n",
       "5     0    0    0    0    0  419    0    0    0     0    0    0    0    0   \n",
       "6     0    0    0    0    0    0  172    0    0     0    0    0    0    0   \n",
       "7     0    0    0    0    0    0    0  325    0     0    0    0    0    0   \n",
       "8     0    0    0    0    0    0    0    0  647     0    0    0    0    0   \n",
       "9     0    0    0    0    0    0    7    0    0  1254    0    0    0    0   \n",
       "10    0    0    0    0    0    0    0    0    0     0  600    0    0    0   \n",
       "11    0    0    0    0    0    0    0    0    0     0    0  315    0    0   \n",
       "12    0    0    0    0    0    0    0    0    0     0    0    0  154    0   \n",
       "13    0    0    0    0    0    0    0    0    0     0    0    0    0  326   \n",
       "14    0    0    0    0    0    0    0    0    0     4    0    0    0    0   \n",
       "15    0    0    0    0    0    0    0    0    0     0    0    0    0    0   \n",
       "16    0    0    0    0    0    0    0    0    0     0    0    0    0    0   \n",
       "17    0    0    0    0    0    0    0    0    0     0    0    0    0    0   \n",
       "\n",
       "     14    15   16   17  \n",
       "0     0     0    0    0  \n",
       "1     0     0    0    0  \n",
       "2     0     0    0    0  \n",
       "3     0     0    0    0  \n",
       "4     0     0    0    0  \n",
       "5     0     0    0    0  \n",
       "6     0     0    0    0  \n",
       "7     0     0    0    0  \n",
       "8     0     0    0    0  \n",
       "9     6     9    0    0  \n",
       "10    0     0    0    0  \n",
       "11    0     0    0    0  \n",
       "12    0     0    0    0  \n",
       "13    0     0    0    0  \n",
       "14  518     0    0    0  \n",
       "15    0  1001    0    0  \n",
       "16    0     0  801    0  \n",
       "17    0     0    0  157  "
      ]
     },
     "execution_count": 56,
     "metadata": {},
     "output_type": "execute_result"
    }
   ],
   "source": [
    "pd.DataFrame(conf_matrix)"
   ]
  },
  {
   "cell_type": "code",
   "execution_count": 57,
   "id": "bf66745c-175f-410d-877e-8b030c0ac638",
   "metadata": {
    "dotnet_interactive": {
     "language": "csharp"
    },
    "polyglot_notebook": {
     "kernelName": "csharp"
    }
   },
   "outputs": [
    {
     "name": "stdout",
     "output_type": "stream",
     "text": [
      "Fitting 3 folds for each of 108 candidates, totalling 324 fits\n",
      "RandomForestClassifier(random_state=42)\n",
      "Acurácia após ajuste: 0.99\n",
      "              precision    recall  f1-score   support\n",
      "\n",
      "           0       1.00      1.00      1.00       168\n",
      "           1       1.00      0.94      0.97       109\n",
      "           2       1.00      0.95      0.98       108\n",
      "           3       1.00      0.98      0.99       210\n",
      "           4       0.99      0.99      0.99       398\n",
      "           5       1.00      1.00      1.00       419\n",
      "           6       0.93      1.00      0.97       172\n",
      "           7       1.00      1.00      1.00       325\n",
      "           8       1.00      1.00      1.00       647\n",
      "           9       0.99      0.98      0.99      1276\n",
      "          10       1.00      1.00      1.00       600\n",
      "          11       1.00      1.00      1.00       315\n",
      "          12       1.00      1.00      1.00       154\n",
      "          13       1.00      1.00      1.00       326\n",
      "          14       0.99      0.99      0.99       522\n",
      "          15       0.99      1.00      1.00      1001\n",
      "          16       1.00      1.00      1.00       801\n",
      "          17       1.00      1.00      1.00       157\n",
      "\n",
      "    accuracy                           0.99      7708\n",
      "   macro avg       0.99      0.99      0.99      7708\n",
      "weighted avg       0.99      0.99      0.99      7708\n",
      "\n"
     ]
    }
   ],
   "source": [
    "# Definir a grade de parâmetros para ajuste\n",
    "param_grid = {\n",
    "    'n_estimators': [100, 200, 300],\n",
    "    'max_depth': [None, 10, 20, 30],\n",
    "    'min_samples_split': [2, 5, 10],\n",
    "    'min_samples_leaf': [1, 2, 4]\n",
    "}\n",
    "\n",
    "# Inicializar GridSearchCV\n",
    "grid_search = GridSearchCV(estimator=model, param_grid=param_grid, cv=3, n_jobs=-1, verbose=2)\n",
    "\n",
    "# Ajustar o modelo\n",
    "grid_search.fit(X_train, y_train)\n",
    "\n",
    "# Melhor modelo encontrado\n",
    "best_model = grid_search.best_estimator_\n",
    "print(best_model)\n",
    "\n",
    "# Avaliar o melhor modelo\n",
    "y_pred_best = best_model.predict(X_test)\n",
    "accuracy_best = accuracy_score(y_test, y_pred_best)\n",
    "print(f'Acurácia após ajuste: {accuracy_best:.2f}')\n",
    "print(classification_report(y_test, y_pred_best))\n"
   ]
  },
  {
   "cell_type": "markdown",
   "id": "d069091b",
   "metadata": {},
   "source": [
    "EXPORTAR MODELO"
   ]
  },
  {
   "cell_type": "code",
   "execution_count": 58,
   "id": "7cfa39d4-b8e5-4bc8-aa67-a6658dd47981",
   "metadata": {
    "dotnet_interactive": {
     "language": "csharp"
    },
    "polyglot_notebook": {
     "kernelName": "csharp"
    }
   },
   "outputs": [],
   "source": [
    "with open(\"../api/models/best_model.pkl\", \"wb\") as f:\n",
    "    pickle.dump(best_model, f)\n",
    "\n",
    "with open(\"../api/models/label_encoder.pkl\", \"wb\") as f:\n",
    "    pickle.dump(label_encoder, f)"
   ]
  },
  {
   "cell_type": "code",
   "execution_count": 59,
   "id": "4baac129",
   "metadata": {
    "dotnet_interactive": {
     "language": "csharp"
    },
    "polyglot_notebook": {
     "kernelName": "csharp"
    }
   },
   "outputs": [],
   "source": [
    "with open(\"../api/models/best_model.pkl\", \"rb\") as f:\n",
    "  best_model = pickle.load(f)\n",
    "\n",
    "with open(\"../api/models/label_encoder.pkl\", \"rb\") as f:\n",
    "    label_encoder = pickle.load(f)"
   ]
  },
  {
   "cell_type": "code",
   "execution_count": 63,
   "id": "9d8f47d9",
   "metadata": {},
   "outputs": [
    {
     "ename": "ValueError",
     "evalue": "y contains previously unseen labels: 'cough'",
     "output_type": "error",
     "traceback": [
      "\u001b[1;31m---------------------------------------------------------------------------\u001b[0m",
      "\u001b[1;31mKeyError\u001b[0m                                  Traceback (most recent call last)",
      "File \u001b[1;32mc:\\Users\\tiago\\anaconda3\\Lib\\site-packages\\sklearn\\utils\\_encode.py:224\u001b[0m, in \u001b[0;36m_encode\u001b[1;34m(values, uniques, check_unknown)\u001b[0m\n\u001b[0;32m    223\u001b[0m \u001b[38;5;28;01mtry\u001b[39;00m:\n\u001b[1;32m--> 224\u001b[0m     \u001b[38;5;28;01mreturn\u001b[39;00m _map_to_integer(values, uniques)\n\u001b[0;32m    225\u001b[0m \u001b[38;5;28;01mexcept\u001b[39;00m \u001b[38;5;167;01mKeyError\u001b[39;00m \u001b[38;5;28;01mas\u001b[39;00m e:\n",
      "File \u001b[1;32mc:\\Users\\tiago\\anaconda3\\Lib\\site-packages\\sklearn\\utils\\_encode.py:164\u001b[0m, in \u001b[0;36m_map_to_integer\u001b[1;34m(values, uniques)\u001b[0m\n\u001b[0;32m    163\u001b[0m table \u001b[38;5;241m=\u001b[39m _nandict({val: i \u001b[38;5;28;01mfor\u001b[39;00m i, val \u001b[38;5;129;01min\u001b[39;00m \u001b[38;5;28menumerate\u001b[39m(uniques)})\n\u001b[1;32m--> 164\u001b[0m \u001b[38;5;28;01mreturn\u001b[39;00m np\u001b[38;5;241m.\u001b[39marray([table[v] \u001b[38;5;28;01mfor\u001b[39;00m v \u001b[38;5;129;01min\u001b[39;00m values])\n",
      "File \u001b[1;32mc:\\Users\\tiago\\anaconda3\\Lib\\site-packages\\sklearn\\utils\\_encode.py:164\u001b[0m, in \u001b[0;36m<listcomp>\u001b[1;34m(.0)\u001b[0m\n\u001b[0;32m    163\u001b[0m table \u001b[38;5;241m=\u001b[39m _nandict({val: i \u001b[38;5;28;01mfor\u001b[39;00m i, val \u001b[38;5;129;01min\u001b[39;00m \u001b[38;5;28menumerate\u001b[39m(uniques)})\n\u001b[1;32m--> 164\u001b[0m \u001b[38;5;28;01mreturn\u001b[39;00m np\u001b[38;5;241m.\u001b[39marray([table[v] \u001b[38;5;28;01mfor\u001b[39;00m v \u001b[38;5;129;01min\u001b[39;00m values])\n",
      "File \u001b[1;32mc:\\Users\\tiago\\anaconda3\\Lib\\site-packages\\sklearn\\utils\\_encode.py:158\u001b[0m, in \u001b[0;36m_nandict.__missing__\u001b[1;34m(self, key)\u001b[0m\n\u001b[0;32m    157\u001b[0m     \u001b[38;5;28;01mreturn\u001b[39;00m \u001b[38;5;28mself\u001b[39m\u001b[38;5;241m.\u001b[39mnan_value\n\u001b[1;32m--> 158\u001b[0m \u001b[38;5;28;01mraise\u001b[39;00m \u001b[38;5;167;01mKeyError\u001b[39;00m(key)\n",
      "\u001b[1;31mKeyError\u001b[0m: 'cough'",
      "\nDuring handling of the above exception, another exception occurred:\n",
      "\u001b[1;31mValueError\u001b[0m                                Traceback (most recent call last)",
      "Cell \u001b[1;32mIn[63], line 8\u001b[0m\n\u001b[0;32m      3\u001b[0m patient_df \u001b[38;5;241m=\u001b[39m pd\u001b[38;5;241m.\u001b[39mDataFrame(\n\u001b[0;32m      4\u001b[0m         [patient_data], columns\u001b[38;5;241m=\u001b[39m[\u001b[38;5;124m\"\u001b[39m\u001b[38;5;124mSymptoms\u001b[39m\u001b[38;5;124m\"\u001b[39m, \u001b[38;5;124m\"\u001b[39m\u001b[38;5;124mAge\u001b[39m\u001b[38;5;124m\"\u001b[39m, \u001b[38;5;124m\"\u001b[39m\u001b[38;5;124mSex\u001b[39m\u001b[38;5;124m\"\u001b[39m, \u001b[38;5;124m\"\u001b[39m\u001b[38;5;124mTreatment\u001b[39m\u001b[38;5;124m\"\u001b[39m, \u001b[38;5;124m\"\u001b[39m\u001b[38;5;124mNature\u001b[39m\u001b[38;5;124m\"\u001b[39m]\n\u001b[0;32m      5\u001b[0m     )\n\u001b[0;32m      7\u001b[0m \u001b[38;5;66;03m# Fazer o pré-processamento usando o LabelEncoder carregado\u001b[39;00m\n\u001b[1;32m----> 8\u001b[0m patient_df[\u001b[38;5;124m\"\u001b[39m\u001b[38;5;124mSymptoms\u001b[39m\u001b[38;5;124m\"\u001b[39m] \u001b[38;5;241m=\u001b[39m label_encoder\u001b[38;5;241m.\u001b[39mtransform(patient_df[\u001b[38;5;124m\"\u001b[39m\u001b[38;5;124mSymptoms\u001b[39m\u001b[38;5;124m\"\u001b[39m])\n\u001b[0;32m      9\u001b[0m patient_df[\u001b[38;5;124m\"\u001b[39m\u001b[38;5;124mSex\u001b[39m\u001b[38;5;124m\"\u001b[39m] \u001b[38;5;241m=\u001b[39m label_encoder\u001b[38;5;241m.\u001b[39mtransform(patient_df[\u001b[38;5;124m\"\u001b[39m\u001b[38;5;124mSex\u001b[39m\u001b[38;5;124m\"\u001b[39m])\n\u001b[0;32m     10\u001b[0m patient_df[\u001b[38;5;124m\"\u001b[39m\u001b[38;5;124mTreatment\u001b[39m\u001b[38;5;124m\"\u001b[39m] \u001b[38;5;241m=\u001b[39m label_encoder\u001b[38;5;241m.\u001b[39mtransform(patient_df[\u001b[38;5;124m\"\u001b[39m\u001b[38;5;124mTreatment\u001b[39m\u001b[38;5;124m\"\u001b[39m])\n",
      "File \u001b[1;32mc:\\Users\\tiago\\anaconda3\\Lib\\site-packages\\sklearn\\utils\\_set_output.py:140\u001b[0m, in \u001b[0;36m_wrap_method_output.<locals>.wrapped\u001b[1;34m(self, X, *args, **kwargs)\u001b[0m\n\u001b[0;32m    138\u001b[0m \u001b[38;5;129m@wraps\u001b[39m(f)\n\u001b[0;32m    139\u001b[0m \u001b[38;5;28;01mdef\u001b[39;00m \u001b[38;5;21mwrapped\u001b[39m(\u001b[38;5;28mself\u001b[39m, X, \u001b[38;5;241m*\u001b[39margs, \u001b[38;5;241m*\u001b[39m\u001b[38;5;241m*\u001b[39mkwargs):\n\u001b[1;32m--> 140\u001b[0m     data_to_wrap \u001b[38;5;241m=\u001b[39m f(\u001b[38;5;28mself\u001b[39m, X, \u001b[38;5;241m*\u001b[39margs, \u001b[38;5;241m*\u001b[39m\u001b[38;5;241m*\u001b[39mkwargs)\n\u001b[0;32m    141\u001b[0m     \u001b[38;5;28;01mif\u001b[39;00m \u001b[38;5;28misinstance\u001b[39m(data_to_wrap, \u001b[38;5;28mtuple\u001b[39m):\n\u001b[0;32m    142\u001b[0m         \u001b[38;5;66;03m# only wrap the first output for cross decomposition\u001b[39;00m\n\u001b[0;32m    143\u001b[0m         \u001b[38;5;28;01mreturn\u001b[39;00m (\n\u001b[0;32m    144\u001b[0m             _wrap_data_with_container(method, data_to_wrap[\u001b[38;5;241m0\u001b[39m], X, \u001b[38;5;28mself\u001b[39m),\n\u001b[0;32m    145\u001b[0m             \u001b[38;5;241m*\u001b[39mdata_to_wrap[\u001b[38;5;241m1\u001b[39m:],\n\u001b[0;32m    146\u001b[0m         )\n",
      "File \u001b[1;32mc:\\Users\\tiago\\anaconda3\\Lib\\site-packages\\sklearn\\preprocessing\\_label.py:139\u001b[0m, in \u001b[0;36mLabelEncoder.transform\u001b[1;34m(self, y)\u001b[0m\n\u001b[0;32m    136\u001b[0m \u001b[38;5;28;01mif\u001b[39;00m _num_samples(y) \u001b[38;5;241m==\u001b[39m \u001b[38;5;241m0\u001b[39m:\n\u001b[0;32m    137\u001b[0m     \u001b[38;5;28;01mreturn\u001b[39;00m np\u001b[38;5;241m.\u001b[39marray([])\n\u001b[1;32m--> 139\u001b[0m \u001b[38;5;28;01mreturn\u001b[39;00m _encode(y, uniques\u001b[38;5;241m=\u001b[39m\u001b[38;5;28mself\u001b[39m\u001b[38;5;241m.\u001b[39mclasses_)\n",
      "File \u001b[1;32mc:\\Users\\tiago\\anaconda3\\Lib\\site-packages\\sklearn\\utils\\_encode.py:226\u001b[0m, in \u001b[0;36m_encode\u001b[1;34m(values, uniques, check_unknown)\u001b[0m\n\u001b[0;32m    224\u001b[0m         \u001b[38;5;28;01mreturn\u001b[39;00m _map_to_integer(values, uniques)\n\u001b[0;32m    225\u001b[0m     \u001b[38;5;28;01mexcept\u001b[39;00m \u001b[38;5;167;01mKeyError\u001b[39;00m \u001b[38;5;28;01mas\u001b[39;00m e:\n\u001b[1;32m--> 226\u001b[0m         \u001b[38;5;28;01mraise\u001b[39;00m \u001b[38;5;167;01mValueError\u001b[39;00m(\u001b[38;5;124mf\u001b[39m\u001b[38;5;124m\"\u001b[39m\u001b[38;5;124my contains previously unseen labels: \u001b[39m\u001b[38;5;132;01m{\u001b[39;00m\u001b[38;5;28mstr\u001b[39m(e)\u001b[38;5;132;01m}\u001b[39;00m\u001b[38;5;124m\"\u001b[39m)\n\u001b[0;32m    227\u001b[0m \u001b[38;5;28;01melse\u001b[39;00m:\n\u001b[0;32m    228\u001b[0m     \u001b[38;5;28;01mif\u001b[39;00m check_unknown:\n",
      "\u001b[1;31mValueError\u001b[0m: y contains previously unseen labels: 'cough'"
     ]
    }
   ],
   "source": [
    "patient_data = [\"cough\", 5, \"female\", \"Omalizumab\", \"high\"]\n",
    "\n",
    "patient_df = pd.DataFrame(\n",
    "        [patient_data], columns=[\"Symptoms\", \"Age\", \"Sex\", \"Treatment\", \"Nature\"]\n",
    "    )\n",
    "\n",
    "# Fazer o pré-processamento usando o LabelEncoder carregado\n",
    "patient_df[\"Symptoms\"] = label_encoder.transform(patient_df[\"Symptoms\"])\n",
    "patient_df[\"Sex\"] = label_encoder.transform(patient_df[\"Sex\"])\n",
    "patient_df[\"Treatment\"] = label_encoder.transform(patient_df[\"Treatment\"])\n",
    "patient_df[\"Nature\"] = label_encoder.transform(patient_df[\"Nature\"])"
   ]
  },
  {
   "cell_type": "code",
   "execution_count": null,
   "id": "f38b510c",
   "metadata": {},
   "outputs": [],
   "source": []
  }
 ],
 "metadata": {
  "kernelspec": {
   "display_name": "Python 3",
   "language": "python",
   "name": "python3"
  },
  "language_info": {
   "codemirror_mode": {
    "name": "ipython",
    "version": 3
   },
   "file_extension": ".py",
   "mimetype": "text/x-python",
   "name": "python",
   "nbconvert_exporter": "python",
   "pygments_lexer": "ipython3",
   "version": "3.11.7"
  },
  "polyglot_notebook": {
   "kernelInfo": {
    "defaultKernelName": "csharp",
    "items": [
     {
      "aliases": [],
      "name": "csharp"
     }
    ]
   }
  }
 },
 "nbformat": 4,
 "nbformat_minor": 5
}
